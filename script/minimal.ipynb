{
 "cells": [
  {
   "cell_type": "code",
   "execution_count": 1,
   "metadata": {},
   "outputs": [
    {
     "name": "stderr",
     "output_type": "stream",
     "text": [
      "2024-09-23 16:51:41.989386: I tensorflow/core/platform/cpu_feature_guard.cc:193] This TensorFlow binary is optimized with oneAPI Deep Neural Network Library (oneDNN) to use the following CPU instructions in performance-critical operations:  AVX2 FMA\n",
      "To enable them in other operations, rebuild TensorFlow with the appropriate compiler flags.\n",
      "2024-09-23 16:51:42.749908: E tensorflow/stream_executor/cuda/cuda_blas.cc:2981] Unable to register cuBLAS factory: Attempting to register factory for plugin cuBLAS when one has already been registered\n",
      "2024-09-23 16:51:43.813861: W tensorflow/stream_executor/platform/default/dso_loader.cc:64] Could not load dynamic library 'libnvinfer.so.7'; dlerror: libnvinfer.so.7: cannot open shared object file: No such file or directory; LD_LIBRARY_PATH: :/private/maxr/bin/miniconda3/envs/tf4/lib/\n",
      "2024-09-23 16:51:43.813935: W tensorflow/stream_executor/platform/default/dso_loader.cc:64] Could not load dynamic library 'libnvinfer_plugin.so.7'; dlerror: libnvinfer_plugin.so.7: cannot open shared object file: No such file or directory; LD_LIBRARY_PATH: :/private/maxr/bin/miniconda3/envs/tf4/lib/\n",
      "2024-09-23 16:51:43.813940: W tensorflow/compiler/tf2tensorrt/utils/py_utils.cc:38] TF-TRT Warning: Cannot dlopen some TensorRT libraries. If you would like to use Nvidia GPU with TensorRT, please make sure the missing libraries mentioned above are installed properly.\n"
     ]
    },
    {
     "name": "stdout",
     "output_type": "stream",
     "text": [
      "This version of feyn and the QLattice is available for academic, personal, and non-commercial use. By using the community version of this software you agree to the terms and conditions which can be found at `https://abzu.ai/eula`.\n"
     ]
    }
   ],
   "source": [
    "%load_ext tensorboard\n",
    "\n",
    "\n",
    "\n",
    "import sys\n",
    "import os\n",
    "\n",
    "import config\n",
    "\n",
    "# import Run_qlattice\n",
    "\n",
    "import re\n",
    "import hashlib\n",
    "import matplotlib.pyplot as plt\n",
    "import pandas as pd\n",
    "import numpy as np\n",
    "import NN_run\n",
    "import prepare_data as data_source\n",
    "import mongodb_driver\n",
    "import requests\n",
    "import feyn\n",
    "\n",
    "import utility_func as uf\n",
    "import sklearn.metrics as skm \n",
    "from matplotlib import pyplot as plt\n",
    "import numpy.ma as ma\n",
    "from sklearn.model_selection import train_test_split\n",
    "\n",
    "import rfet_model as rmdl\n",
    "\n"
   ]
  },
  {
   "cell_type": "code",
   "execution_count": 2,
   "metadata": {},
   "outputs": [
    {
     "name": "stdout",
     "output_type": "stream",
     "text": [
      "connection error\n"
     ]
    }
   ],
   "source": [
    "# mdb = mongodb_driver.mdb_connect(\"mdb_cmodel\", \"felixl\", \"mdbpass\")\n",
    "mdb = mongodb_driver.mdb_connect(\"mdb_cmodel\", \"root\", \"t(jWbtU4DRnuXqdhK\")\n",
    "\n",
    "mdb_col = mdb[\"NN\"]"
   ]
  },
  {
   "cell_type": "code",
   "execution_count": 3,
   "metadata": {},
   "outputs": [],
   "source": [
    "# PARAMETERS\n",
    "minstep = 0.02                                  # minimum stepsize, refers to $\\Delta V_{sweep}$ in section 4.2.1\n",
    "i_max = 1                                       # maximum number of models to generate in parallel, with different seeds\n",
    "str_run = \"run_regular_grid_common_goal\"        # PyTaurus run to extract the data from. \"run_regular_grid_common_goal\" is used in the dissertation\n",
    "sweep_gate = \"lat2\"                             # the respective gate sweep to be used"
   ]
  },
  {
   "cell_type": "markdown",
   "metadata": {},
   "source": [
    "# LINEAR MODEL"
   ]
  },
  {
   "cell_type": "code",
   "execution_count": 4,
   "metadata": {},
   "outputs": [],
   "source": [
    "\n",
    "\n",
    "pars = {\n",
    "    \"data_type\"                         : 'DC',\n",
    "    \"data_path\"                         : f\"{config.dir_data}/{str_run}_{sweep_gate}_minstep{minstep}_export.pkl\",\n",
    "    \"save_path\"                         : f\"NN_models/mx/lin/\",\n",
    "\n",
    "    \"mdl_type\"                          : 'lin',\n",
    "    \"mdl_arch\"                          : 'NN',\n",
    "\n",
    "    # \"augmentation_type\"                 : \"gauss_noise_3\",\n",
    "    \"augmentation_type\"                 : None,\n",
    "    \"train_test_split_random_seed\"      : 20,\n",
    "\n",
    "    \"tf_epochs\"                         : 1000,\n",
    "    \"tf_es_patience\"                    : 120,\n",
    "    \"tf_es_delta\"                       : 1E-07,\n",
    "    \"tf_n_neurons\"                      : 16,\n",
    "    \n",
    "    \"user\"                              : os.getlogin(),\n",
    "    \"comment\"                           : \"minimal example test\"\n",
    "}\n",
    "\n",
    "Xlabels =   [\"Vlat21\", \"Vfglat1\", \"Vtglat1\"]\n",
    "Ylabel  =   [\"ids\"]\n",
    "\n"
   ]
  },
  {
   "cell_type": "code",
   "execution_count": 5,
   "metadata": {},
   "outputs": [
    {
     "ename": "OperationFailure",
     "evalue": "Authentication failed., full error: {'ok': 0.0, 'errmsg': 'Authentication failed.', 'code': 18, 'codeName': 'AuthenticationFailed'}",
     "output_type": "error",
     "traceback": [
      "\u001b[0;31m---------------------------------------------------------------------------\u001b[0m",
      "\u001b[0;31mIndexError\u001b[0m                                Traceback (most recent call last)",
      "File \u001b[0;32m/private/maxr/bin/miniconda3/envs/tf4/lib/python3.9/site-packages/pymongo/pool.py:1394\u001b[0m, in \u001b[0;36mPool._get_socket\u001b[0;34m(self, all_credentials)\u001b[0m\n\u001b[1;32m   1393\u001b[0m     \u001b[38;5;28;01mwith\u001b[39;00m \u001b[38;5;28mself\u001b[39m\u001b[38;5;241m.\u001b[39mlock:\n\u001b[0;32m-> 1394\u001b[0m         sock_info \u001b[38;5;241m=\u001b[39m \u001b[38;5;28;43mself\u001b[39;49m\u001b[38;5;241;43m.\u001b[39;49m\u001b[43msockets\u001b[49m\u001b[38;5;241;43m.\u001b[39;49m\u001b[43mpopleft\u001b[49m\u001b[43m(\u001b[49m\u001b[43m)\u001b[49m\n\u001b[1;32m   1395\u001b[0m \u001b[38;5;28;01mexcept\u001b[39;00m \u001b[38;5;167;01mIndexError\u001b[39;00m:\n\u001b[1;32m   1396\u001b[0m     \u001b[38;5;66;03m# Can raise ConnectionFailure or CertificateError.\u001b[39;00m\n",
      "\u001b[0;31mIndexError\u001b[0m: pop from an empty deque",
      "\nDuring handling of the above exception, another exception occurred:\n",
      "\u001b[0;31mOperationFailure\u001b[0m                          Traceback (most recent call last)",
      "Cell \u001b[0;32mIn[5], line 3\u001b[0m\n\u001b[1;32m      1\u001b[0m \u001b[38;5;66;03m### create MongoDB document\u001b[39;00m\n\u001b[0;32m----> 3\u001b[0m _id_lin \u001b[38;5;241m=\u001b[39m \u001b[43mmdb_col\u001b[49m\u001b[38;5;241;43m.\u001b[39;49m\u001b[43minsert_one\u001b[49m\u001b[43m(\u001b[49m\u001b[43mpars\u001b[49m\u001b[43m)\u001b[49m\n\u001b[1;32m      4\u001b[0m _id_lin \u001b[38;5;241m=\u001b[39m \u001b[38;5;28mstr\u001b[39m(_id_lin\u001b[38;5;241m.\u001b[39minserted_id)\n\u001b[1;32m      5\u001b[0m \u001b[38;5;28mprint\u001b[39m(_id_lin)\n",
      "File \u001b[0;32m/private/maxr/bin/miniconda3/envs/tf4/lib/python3.9/site-packages/pymongo/collection.py:705\u001b[0m, in \u001b[0;36mCollection.insert_one\u001b[0;34m(self, document, bypass_document_validation, session)\u001b[0m\n\u001b[1;32m    701\u001b[0m     document[\u001b[38;5;124m\"\u001b[39m\u001b[38;5;124m_id\u001b[39m\u001b[38;5;124m\"\u001b[39m] \u001b[38;5;241m=\u001b[39m ObjectId()\n\u001b[1;32m    703\u001b[0m write_concern \u001b[38;5;241m=\u001b[39m \u001b[38;5;28mself\u001b[39m\u001b[38;5;241m.\u001b[39m_write_concern_for(session)\n\u001b[1;32m    704\u001b[0m \u001b[38;5;28;01mreturn\u001b[39;00m InsertOneResult(\n\u001b[0;32m--> 705\u001b[0m     \u001b[38;5;28;43mself\u001b[39;49m\u001b[38;5;241;43m.\u001b[39;49m\u001b[43m_insert\u001b[49m\u001b[43m(\u001b[49m\u001b[43mdocument\u001b[49m\u001b[43m,\u001b[49m\n\u001b[1;32m    706\u001b[0m \u001b[43m                 \u001b[49m\u001b[43mwrite_concern\u001b[49m\u001b[38;5;241;43m=\u001b[39;49m\u001b[43mwrite_concern\u001b[49m\u001b[43m,\u001b[49m\n\u001b[1;32m    707\u001b[0m \u001b[43m                 \u001b[49m\u001b[43mbypass_doc_val\u001b[49m\u001b[38;5;241;43m=\u001b[39;49m\u001b[43mbypass_document_validation\u001b[49m\u001b[43m,\u001b[49m\n\u001b[1;32m    708\u001b[0m \u001b[43m                 \u001b[49m\u001b[43msession\u001b[49m\u001b[38;5;241;43m=\u001b[39;49m\u001b[43msession\u001b[49m\u001b[43m)\u001b[49m,\n\u001b[1;32m    709\u001b[0m     write_concern\u001b[38;5;241m.\u001b[39macknowledged)\n",
      "File \u001b[0;32m/private/maxr/bin/miniconda3/envs/tf4/lib/python3.9/site-packages/pymongo/collection.py:620\u001b[0m, in \u001b[0;36mCollection._insert\u001b[0;34m(self, docs, ordered, check_keys, manipulate, write_concern, op_id, bypass_doc_val, session)\u001b[0m\n\u001b[1;32m    618\u001b[0m \u001b[38;5;250m\u001b[39m\u001b[38;5;124;03m\"\"\"Internal insert helper.\"\"\"\u001b[39;00m\n\u001b[1;32m    619\u001b[0m \u001b[38;5;28;01mif\u001b[39;00m \u001b[38;5;28misinstance\u001b[39m(docs, abc\u001b[38;5;241m.\u001b[39mMapping):\n\u001b[0;32m--> 620\u001b[0m     \u001b[38;5;28;01mreturn\u001b[39;00m \u001b[38;5;28;43mself\u001b[39;49m\u001b[38;5;241;43m.\u001b[39;49m\u001b[43m_insert_one\u001b[49m\u001b[43m(\u001b[49m\n\u001b[1;32m    621\u001b[0m \u001b[43m        \u001b[49m\u001b[43mdocs\u001b[49m\u001b[43m,\u001b[49m\u001b[43m \u001b[49m\u001b[43mordered\u001b[49m\u001b[43m,\u001b[49m\u001b[43m \u001b[49m\u001b[43mcheck_keys\u001b[49m\u001b[43m,\u001b[49m\u001b[43m \u001b[49m\u001b[43mmanipulate\u001b[49m\u001b[43m,\u001b[49m\u001b[43m \u001b[49m\u001b[43mwrite_concern\u001b[49m\u001b[43m,\u001b[49m\u001b[43m \u001b[49m\u001b[43mop_id\u001b[49m\u001b[43m,\u001b[49m\n\u001b[1;32m    622\u001b[0m \u001b[43m        \u001b[49m\u001b[43mbypass_doc_val\u001b[49m\u001b[43m,\u001b[49m\u001b[43m \u001b[49m\u001b[43msession\u001b[49m\u001b[43m)\u001b[49m\n\u001b[1;32m    624\u001b[0m ids \u001b[38;5;241m=\u001b[39m []\n\u001b[1;32m    626\u001b[0m \u001b[38;5;28;01mif\u001b[39;00m manipulate:\n",
      "File \u001b[0;32m/private/maxr/bin/miniconda3/envs/tf4/lib/python3.9/site-packages/pymongo/collection.py:609\u001b[0m, in \u001b[0;36mCollection._insert_one\u001b[0;34m(self, doc, ordered, check_keys, manipulate, write_concern, op_id, bypass_doc_val, session)\u001b[0m\n\u001b[1;32m    597\u001b[0m     result \u001b[38;5;241m=\u001b[39m sock_info\u001b[38;5;241m.\u001b[39mcommand(\n\u001b[1;32m    598\u001b[0m         \u001b[38;5;28mself\u001b[39m\u001b[38;5;241m.\u001b[39m__database\u001b[38;5;241m.\u001b[39mname,\n\u001b[1;32m    599\u001b[0m         command,\n\u001b[0;32m   (...)\u001b[0m\n\u001b[1;32m    604\u001b[0m         client\u001b[38;5;241m=\u001b[39m\u001b[38;5;28mself\u001b[39m\u001b[38;5;241m.\u001b[39m__database\u001b[38;5;241m.\u001b[39mclient,\n\u001b[1;32m    605\u001b[0m         retryable_write\u001b[38;5;241m=\u001b[39mretryable_write)\n\u001b[1;32m    607\u001b[0m     _check_write_command_response(result)\n\u001b[0;32m--> 609\u001b[0m \u001b[38;5;28;43mself\u001b[39;49m\u001b[38;5;241;43m.\u001b[39;49m\u001b[43m__database\u001b[49m\u001b[38;5;241;43m.\u001b[39;49m\u001b[43mclient\u001b[49m\u001b[38;5;241;43m.\u001b[39;49m\u001b[43m_retryable_write\u001b[49m\u001b[43m(\u001b[49m\n\u001b[1;32m    610\u001b[0m \u001b[43m    \u001b[49m\u001b[43macknowledged\u001b[49m\u001b[43m,\u001b[49m\u001b[43m \u001b[49m\u001b[43m_insert_command\u001b[49m\u001b[43m,\u001b[49m\u001b[43m \u001b[49m\u001b[43msession\u001b[49m\u001b[43m)\u001b[49m\n\u001b[1;32m    612\u001b[0m \u001b[38;5;28;01mif\u001b[39;00m \u001b[38;5;129;01mnot\u001b[39;00m \u001b[38;5;28misinstance\u001b[39m(doc, RawBSONDocument):\n\u001b[1;32m    613\u001b[0m     \u001b[38;5;28;01mreturn\u001b[39;00m doc\u001b[38;5;241m.\u001b[39mget(\u001b[38;5;124m'\u001b[39m\u001b[38;5;124m_id\u001b[39m\u001b[38;5;124m'\u001b[39m)\n",
      "File \u001b[0;32m/private/maxr/bin/miniconda3/envs/tf4/lib/python3.9/site-packages/pymongo/mongo_client.py:1552\u001b[0m, in \u001b[0;36mMongoClient._retryable_write\u001b[0;34m(self, retryable, func, session)\u001b[0m\n\u001b[1;32m   1550\u001b[0m \u001b[38;5;250m\u001b[39m\u001b[38;5;124;03m\"\"\"Internal retryable write helper.\"\"\"\u001b[39;00m\n\u001b[1;32m   1551\u001b[0m \u001b[38;5;28;01mwith\u001b[39;00m \u001b[38;5;28mself\u001b[39m\u001b[38;5;241m.\u001b[39m_tmp_session(session) \u001b[38;5;28;01mas\u001b[39;00m s:\n\u001b[0;32m-> 1552\u001b[0m     \u001b[38;5;28;01mreturn\u001b[39;00m \u001b[38;5;28;43mself\u001b[39;49m\u001b[38;5;241;43m.\u001b[39;49m\u001b[43m_retry_with_session\u001b[49m\u001b[43m(\u001b[49m\u001b[43mretryable\u001b[49m\u001b[43m,\u001b[49m\u001b[43m \u001b[49m\u001b[43mfunc\u001b[49m\u001b[43m,\u001b[49m\u001b[43m \u001b[49m\u001b[43ms\u001b[49m\u001b[43m,\u001b[49m\u001b[43m \u001b[49m\u001b[38;5;28;43;01mNone\u001b[39;49;00m\u001b[43m)\u001b[49m\n",
      "File \u001b[0;32m/private/maxr/bin/miniconda3/envs/tf4/lib/python3.9/site-packages/pymongo/mongo_client.py:1438\u001b[0m, in \u001b[0;36mMongoClient._retry_with_session\u001b[0;34m(self, retryable, func, session, bulk)\u001b[0m\n\u001b[1;32m   1429\u001b[0m \u001b[38;5;250m\u001b[39m\u001b[38;5;124;03m\"\"\"Execute an operation with at most one consecutive retries\u001b[39;00m\n\u001b[1;32m   1430\u001b[0m \n\u001b[1;32m   1431\u001b[0m \u001b[38;5;124;03mReturns func()'s return value on success. On error retries the same\u001b[39;00m\n\u001b[0;32m   (...)\u001b[0m\n\u001b[1;32m   1434\u001b[0m \u001b[38;5;124;03mRe-raises any exception thrown by func().\u001b[39;00m\n\u001b[1;32m   1435\u001b[0m \u001b[38;5;124;03m\"\"\"\u001b[39;00m\n\u001b[1;32m   1436\u001b[0m retryable \u001b[38;5;241m=\u001b[39m (retryable \u001b[38;5;129;01mand\u001b[39;00m \u001b[38;5;28mself\u001b[39m\u001b[38;5;241m.\u001b[39mretry_writes\n\u001b[1;32m   1437\u001b[0m              \u001b[38;5;129;01mand\u001b[39;00m session \u001b[38;5;129;01mand\u001b[39;00m \u001b[38;5;129;01mnot\u001b[39;00m session\u001b[38;5;241m.\u001b[39min_transaction)\n\u001b[0;32m-> 1438\u001b[0m \u001b[38;5;28;01mreturn\u001b[39;00m \u001b[38;5;28;43mself\u001b[39;49m\u001b[38;5;241;43m.\u001b[39;49m\u001b[43m_retry_internal\u001b[49m\u001b[43m(\u001b[49m\u001b[43mretryable\u001b[49m\u001b[43m,\u001b[49m\u001b[43m \u001b[49m\u001b[43mfunc\u001b[49m\u001b[43m,\u001b[49m\u001b[43m \u001b[49m\u001b[43msession\u001b[49m\u001b[43m,\u001b[49m\u001b[43m \u001b[49m\u001b[43mbulk\u001b[49m\u001b[43m)\u001b[49m\n",
      "File \u001b[0;32m/private/maxr/bin/miniconda3/envs/tf4/lib/python3.9/site-packages/pymongo/mongo_client.py:1462\u001b[0m, in \u001b[0;36mMongoClient._retry_internal\u001b[0;34m(self, retryable, func, session, bulk)\u001b[0m\n\u001b[1;32m   1458\u001b[0m server \u001b[38;5;241m=\u001b[39m \u001b[38;5;28mself\u001b[39m\u001b[38;5;241m.\u001b[39m_select_server(writable_server_selector, session)\n\u001b[1;32m   1459\u001b[0m supports_session \u001b[38;5;241m=\u001b[39m (\n\u001b[1;32m   1460\u001b[0m     session \u001b[38;5;129;01mis\u001b[39;00m \u001b[38;5;129;01mnot\u001b[39;00m \u001b[38;5;28;01mNone\u001b[39;00m \u001b[38;5;129;01mand\u001b[39;00m\n\u001b[1;32m   1461\u001b[0m     server\u001b[38;5;241m.\u001b[39mdescription\u001b[38;5;241m.\u001b[39mretryable_writes_supported)\n\u001b[0;32m-> 1462\u001b[0m \u001b[38;5;28;01mwith\u001b[39;00m \u001b[38;5;28mself\u001b[39m\u001b[38;5;241m.\u001b[39m_get_socket(server, session) \u001b[38;5;28;01mas\u001b[39;00m sock_info:\n\u001b[1;32m   1463\u001b[0m     max_wire_version \u001b[38;5;241m=\u001b[39m sock_info\u001b[38;5;241m.\u001b[39mmax_wire_version\n\u001b[1;32m   1464\u001b[0m     \u001b[38;5;28;01mif\u001b[39;00m retryable \u001b[38;5;129;01mand\u001b[39;00m \u001b[38;5;129;01mnot\u001b[39;00m supports_session:\n",
      "File \u001b[0;32m/private/maxr/bin/miniconda3/envs/tf4/lib/python3.9/contextlib.py:119\u001b[0m, in \u001b[0;36m_GeneratorContextManager.__enter__\u001b[0;34m(self)\u001b[0m\n\u001b[1;32m    117\u001b[0m \u001b[38;5;28;01mdel\u001b[39;00m \u001b[38;5;28mself\u001b[39m\u001b[38;5;241m.\u001b[39margs, \u001b[38;5;28mself\u001b[39m\u001b[38;5;241m.\u001b[39mkwds, \u001b[38;5;28mself\u001b[39m\u001b[38;5;241m.\u001b[39mfunc\n\u001b[1;32m    118\u001b[0m \u001b[38;5;28;01mtry\u001b[39;00m:\n\u001b[0;32m--> 119\u001b[0m     \u001b[38;5;28;01mreturn\u001b[39;00m \u001b[38;5;28;43mnext\u001b[39;49m\u001b[43m(\u001b[49m\u001b[38;5;28;43mself\u001b[39;49m\u001b[38;5;241;43m.\u001b[39;49m\u001b[43mgen\u001b[49m\u001b[43m)\u001b[49m\n\u001b[1;32m    120\u001b[0m \u001b[38;5;28;01mexcept\u001b[39;00m \u001b[38;5;167;01mStopIteration\u001b[39;00m:\n\u001b[1;32m    121\u001b[0m     \u001b[38;5;28;01mraise\u001b[39;00m \u001b[38;5;167;01mRuntimeError\u001b[39;00m(\u001b[38;5;124m\"\u001b[39m\u001b[38;5;124mgenerator didn\u001b[39m\u001b[38;5;124m'\u001b[39m\u001b[38;5;124mt yield\u001b[39m\u001b[38;5;124m\"\u001b[39m) \u001b[38;5;28;01mfrom\u001b[39;00m \u001b[38;5;28;01mNone\u001b[39;00m\n",
      "File \u001b[0;32m/private/maxr/bin/miniconda3/envs/tf4/lib/python3.9/site-packages/pymongo/mongo_client.py:1308\u001b[0m, in \u001b[0;36mMongoClient._get_socket\u001b[0;34m(self, server, session)\u001b[0m\n\u001b[1;32m   1306\u001b[0m     \u001b[38;5;28;01myield\u001b[39;00m session\u001b[38;5;241m.\u001b[39m_pinned_connection\n\u001b[1;32m   1307\u001b[0m     \u001b[38;5;28;01mreturn\u001b[39;00m\n\u001b[0;32m-> 1308\u001b[0m \u001b[38;5;28;01mwith\u001b[39;00m server\u001b[38;5;241m.\u001b[39mget_socket(\n\u001b[1;32m   1309\u001b[0m         \u001b[38;5;28mself\u001b[39m\u001b[38;5;241m.\u001b[39m__all_credentials, handler\u001b[38;5;241m=\u001b[39merr_handler) \u001b[38;5;28;01mas\u001b[39;00m sock_info:\n\u001b[1;32m   1310\u001b[0m     \u001b[38;5;66;03m# Pin this session to the selected server or connection.\u001b[39;00m\n\u001b[1;32m   1311\u001b[0m     \u001b[38;5;28;01mif\u001b[39;00m (in_txn \u001b[38;5;129;01mand\u001b[39;00m server\u001b[38;5;241m.\u001b[39mdescription\u001b[38;5;241m.\u001b[39mserver_type \u001b[38;5;129;01min\u001b[39;00m (\n\u001b[1;32m   1312\u001b[0m             SERVER_TYPE\u001b[38;5;241m.\u001b[39mMongos, SERVER_TYPE\u001b[38;5;241m.\u001b[39mLoadBalancer)):\n\u001b[1;32m   1313\u001b[0m         session\u001b[38;5;241m.\u001b[39m_pin(server, sock_info)\n",
      "File \u001b[0;32m/private/maxr/bin/miniconda3/envs/tf4/lib/python3.9/contextlib.py:119\u001b[0m, in \u001b[0;36m_GeneratorContextManager.__enter__\u001b[0;34m(self)\u001b[0m\n\u001b[1;32m    117\u001b[0m \u001b[38;5;28;01mdel\u001b[39;00m \u001b[38;5;28mself\u001b[39m\u001b[38;5;241m.\u001b[39margs, \u001b[38;5;28mself\u001b[39m\u001b[38;5;241m.\u001b[39mkwds, \u001b[38;5;28mself\u001b[39m\u001b[38;5;241m.\u001b[39mfunc\n\u001b[1;32m    118\u001b[0m \u001b[38;5;28;01mtry\u001b[39;00m:\n\u001b[0;32m--> 119\u001b[0m     \u001b[38;5;28;01mreturn\u001b[39;00m \u001b[38;5;28;43mnext\u001b[39;49m\u001b[43m(\u001b[49m\u001b[38;5;28;43mself\u001b[39;49m\u001b[38;5;241;43m.\u001b[39;49m\u001b[43mgen\u001b[49m\u001b[43m)\u001b[49m\n\u001b[1;32m    120\u001b[0m \u001b[38;5;28;01mexcept\u001b[39;00m \u001b[38;5;167;01mStopIteration\u001b[39;00m:\n\u001b[1;32m    121\u001b[0m     \u001b[38;5;28;01mraise\u001b[39;00m \u001b[38;5;167;01mRuntimeError\u001b[39;00m(\u001b[38;5;124m\"\u001b[39m\u001b[38;5;124mgenerator didn\u001b[39m\u001b[38;5;124m'\u001b[39m\u001b[38;5;124mt yield\u001b[39m\u001b[38;5;124m\"\u001b[39m) \u001b[38;5;28;01mfrom\u001b[39;00m \u001b[38;5;28;01mNone\u001b[39;00m\n",
      "File \u001b[0;32m/private/maxr/bin/miniconda3/envs/tf4/lib/python3.9/site-packages/pymongo/pool.py:1331\u001b[0m, in \u001b[0;36mPool.get_socket\u001b[0;34m(self, all_credentials, handler)\u001b[0m\n\u001b[1;32m   1328\u001b[0m \u001b[38;5;28;01mif\u001b[39;00m \u001b[38;5;28mself\u001b[39m\u001b[38;5;241m.\u001b[39menabled_for_cmap:\n\u001b[1;32m   1329\u001b[0m     listeners\u001b[38;5;241m.\u001b[39mpublish_connection_check_out_started(\u001b[38;5;28mself\u001b[39m\u001b[38;5;241m.\u001b[39maddress)\n\u001b[0;32m-> 1331\u001b[0m sock_info \u001b[38;5;241m=\u001b[39m \u001b[38;5;28;43mself\u001b[39;49m\u001b[38;5;241;43m.\u001b[39;49m\u001b[43m_get_socket\u001b[49m\u001b[43m(\u001b[49m\u001b[43mall_credentials\u001b[49m\u001b[43m)\u001b[49m\n\u001b[1;32m   1332\u001b[0m \u001b[38;5;28;01mif\u001b[39;00m \u001b[38;5;28mself\u001b[39m\u001b[38;5;241m.\u001b[39menabled_for_cmap:\n\u001b[1;32m   1333\u001b[0m     listeners\u001b[38;5;241m.\u001b[39mpublish_connection_checked_out(\n\u001b[1;32m   1334\u001b[0m         \u001b[38;5;28mself\u001b[39m\u001b[38;5;241m.\u001b[39maddress, sock_info\u001b[38;5;241m.\u001b[39mid)\n",
      "File \u001b[0;32m/private/maxr/bin/miniconda3/envs/tf4/lib/python3.9/site-packages/pymongo/pool.py:1397\u001b[0m, in \u001b[0;36mPool._get_socket\u001b[0;34m(self, all_credentials)\u001b[0m\n\u001b[1;32m   1394\u001b[0m         sock_info \u001b[38;5;241m=\u001b[39m \u001b[38;5;28mself\u001b[39m\u001b[38;5;241m.\u001b[39msockets\u001b[38;5;241m.\u001b[39mpopleft()\n\u001b[1;32m   1395\u001b[0m \u001b[38;5;28;01mexcept\u001b[39;00m \u001b[38;5;167;01mIndexError\u001b[39;00m:\n\u001b[1;32m   1396\u001b[0m     \u001b[38;5;66;03m# Can raise ConnectionFailure or CertificateError.\u001b[39;00m\n\u001b[0;32m-> 1397\u001b[0m     sock_info \u001b[38;5;241m=\u001b[39m \u001b[38;5;28;43mself\u001b[39;49m\u001b[38;5;241;43m.\u001b[39;49m\u001b[43mconnect\u001b[49m\u001b[43m(\u001b[49m\u001b[43mall_credentials\u001b[49m\u001b[43m)\u001b[49m\n\u001b[1;32m   1398\u001b[0m \u001b[38;5;28;01melse\u001b[39;00m:\n\u001b[1;32m   1399\u001b[0m     \u001b[38;5;28;01mif\u001b[39;00m \u001b[38;5;28mself\u001b[39m\u001b[38;5;241m.\u001b[39m_perished(sock_info):\n",
      "File \u001b[0;32m/private/maxr/bin/miniconda3/envs/tf4/lib/python3.9/site-packages/pymongo/pool.py:1297\u001b[0m, in \u001b[0;36mPool.connect\u001b[0;34m(self, all_credentials)\u001b[0m\n\u001b[1;32m   1294\u001b[0m         sock_info\u001b[38;5;241m.\u001b[39mhello(all_credentials)\n\u001b[1;32m   1295\u001b[0m         \u001b[38;5;28mself\u001b[39m\u001b[38;5;241m.\u001b[39mis_writable \u001b[38;5;241m=\u001b[39m sock_info\u001b[38;5;241m.\u001b[39mis_writable\n\u001b[0;32m-> 1297\u001b[0m     \u001b[43msock_info\u001b[49m\u001b[38;5;241;43m.\u001b[39;49m\u001b[43mcheck_auth\u001b[49m\u001b[43m(\u001b[49m\u001b[43mall_credentials\u001b[49m\u001b[43m)\u001b[49m\n\u001b[1;32m   1298\u001b[0m \u001b[38;5;28;01mexcept\u001b[39;00m \u001b[38;5;167;01mBaseException\u001b[39;00m:\n\u001b[1;32m   1299\u001b[0m     sock_info\u001b[38;5;241m.\u001b[39mclose_socket(ConnectionClosedReason\u001b[38;5;241m.\u001b[39mERROR)\n",
      "File \u001b[0;32m/private/maxr/bin/miniconda3/envs/tf4/lib/python3.9/site-packages/pymongo/pool.py:820\u001b[0m, in \u001b[0;36mSocketInfo.check_auth\u001b[0;34m(self, all_credentials)\u001b[0m\n\u001b[1;32m    817\u001b[0m         \u001b[38;5;28mself\u001b[39m\u001b[38;5;241m.\u001b[39mauthset\u001b[38;5;241m.\u001b[39mdiscard(credentials)\n\u001b[1;32m    819\u001b[0m     \u001b[38;5;28;01mfor\u001b[39;00m credentials \u001b[38;5;129;01min\u001b[39;00m cached \u001b[38;5;241m-\u001b[39m authset:\n\u001b[0;32m--> 820\u001b[0m         \u001b[38;5;28;43mself\u001b[39;49m\u001b[38;5;241;43m.\u001b[39;49m\u001b[43mauthenticate\u001b[49m\u001b[43m(\u001b[49m\u001b[43mcredentials\u001b[49m\u001b[43m)\u001b[49m\n\u001b[1;32m    822\u001b[0m \u001b[38;5;66;03m# CMAP spec says to publish the ready event only after authenticating\u001b[39;00m\n\u001b[1;32m    823\u001b[0m \u001b[38;5;66;03m# the connection.\u001b[39;00m\n\u001b[1;32m    824\u001b[0m \u001b[38;5;28;01mif\u001b[39;00m \u001b[38;5;129;01mnot\u001b[39;00m \u001b[38;5;28mself\u001b[39m\u001b[38;5;241m.\u001b[39mready:\n",
      "File \u001b[0;32m/private/maxr/bin/miniconda3/envs/tf4/lib/python3.9/site-packages/pymongo/pool.py:837\u001b[0m, in \u001b[0;36mSocketInfo.authenticate\u001b[0;34m(self, credentials)\u001b[0m\n\u001b[1;32m    829\u001b[0m \u001b[38;5;28;01mdef\u001b[39;00m \u001b[38;5;21mauthenticate\u001b[39m(\u001b[38;5;28mself\u001b[39m, credentials):\n\u001b[1;32m    830\u001b[0m \u001b[38;5;250m    \u001b[39m\u001b[38;5;124;03m\"\"\"Log in to the server and store these credentials in `authset`.\u001b[39;00m\n\u001b[1;32m    831\u001b[0m \n\u001b[1;32m    832\u001b[0m \u001b[38;5;124;03m    Can raise ConnectionFailure or OperationFailure.\u001b[39;00m\n\u001b[0;32m   (...)\u001b[0m\n\u001b[1;32m    835\u001b[0m \u001b[38;5;124;03m      - `credentials`: A MongoCredential.\u001b[39;00m\n\u001b[1;32m    836\u001b[0m \u001b[38;5;124;03m    \"\"\"\u001b[39;00m\n\u001b[0;32m--> 837\u001b[0m     \u001b[43mauth\u001b[49m\u001b[38;5;241;43m.\u001b[39;49m\u001b[43mauthenticate\u001b[49m\u001b[43m(\u001b[49m\u001b[43mcredentials\u001b[49m\u001b[43m,\u001b[49m\u001b[43m \u001b[49m\u001b[38;5;28;43mself\u001b[39;49m\u001b[43m)\u001b[49m\n\u001b[1;32m    838\u001b[0m     \u001b[38;5;28mself\u001b[39m\u001b[38;5;241m.\u001b[39mauthset\u001b[38;5;241m.\u001b[39madd(credentials)\n\u001b[1;32m    839\u001b[0m     \u001b[38;5;66;03m# negotiated_mechanisms are no longer needed.\u001b[39;00m\n",
      "File \u001b[0;32m/private/maxr/bin/miniconda3/envs/tf4/lib/python3.9/site-packages/pymongo/auth.py:672\u001b[0m, in \u001b[0;36mauthenticate\u001b[0;34m(credentials, sock_info)\u001b[0m\n\u001b[1;32m    670\u001b[0m mechanism \u001b[38;5;241m=\u001b[39m credentials\u001b[38;5;241m.\u001b[39mmechanism\n\u001b[1;32m    671\u001b[0m auth_func \u001b[38;5;241m=\u001b[39m _AUTH_MAP\u001b[38;5;241m.\u001b[39mget(mechanism)\n\u001b[0;32m--> 672\u001b[0m \u001b[43mauth_func\u001b[49m\u001b[43m(\u001b[49m\u001b[43mcredentials\u001b[49m\u001b[43m,\u001b[49m\u001b[43m \u001b[49m\u001b[43msock_info\u001b[49m\u001b[43m)\u001b[49m\n",
      "File \u001b[0;32m/private/maxr/bin/miniconda3/envs/tf4/lib/python3.9/site-packages/pymongo/auth.py:588\u001b[0m, in \u001b[0;36m_authenticate_default\u001b[0;34m(credentials, sock_info)\u001b[0m\n\u001b[1;32m    584\u001b[0m     mechs \u001b[38;5;241m=\u001b[39m sock_info\u001b[38;5;241m.\u001b[39mcommand(\n\u001b[1;32m    585\u001b[0m         source, cmd, publish_events\u001b[38;5;241m=\u001b[39m\u001b[38;5;28;01mFalse\u001b[39;00m)\u001b[38;5;241m.\u001b[39mget(\n\u001b[1;32m    586\u001b[0m         \u001b[38;5;124m'\u001b[39m\u001b[38;5;124msaslSupportedMechs\u001b[39m\u001b[38;5;124m'\u001b[39m, [])\n\u001b[1;32m    587\u001b[0m \u001b[38;5;28;01mif\u001b[39;00m \u001b[38;5;124m'\u001b[39m\u001b[38;5;124mSCRAM-SHA-256\u001b[39m\u001b[38;5;124m'\u001b[39m \u001b[38;5;129;01min\u001b[39;00m mechs:\n\u001b[0;32m--> 588\u001b[0m     \u001b[38;5;28;01mreturn\u001b[39;00m \u001b[43m_authenticate_scram\u001b[49m\u001b[43m(\u001b[49m\u001b[43mcredentials\u001b[49m\u001b[43m,\u001b[49m\u001b[43m \u001b[49m\u001b[43msock_info\u001b[49m\u001b[43m,\u001b[49m\u001b[43m \u001b[49m\u001b[38;5;124;43m'\u001b[39;49m\u001b[38;5;124;43mSCRAM-SHA-256\u001b[39;49m\u001b[38;5;124;43m'\u001b[39;49m\u001b[43m)\u001b[49m\n\u001b[1;32m    589\u001b[0m \u001b[38;5;28;01melse\u001b[39;00m:\n\u001b[1;32m    590\u001b[0m     \u001b[38;5;28;01mreturn\u001b[39;00m _authenticate_scram(credentials, sock_info, \u001b[38;5;124m'\u001b[39m\u001b[38;5;124mSCRAM-SHA-1\u001b[39m\u001b[38;5;124m'\u001b[39m)\n",
      "File \u001b[0;32m/private/maxr/bin/miniconda3/envs/tf4/lib/python3.9/site-packages/pymongo/auth.py:333\u001b[0m, in \u001b[0;36m_authenticate_scram\u001b[0;34m(credentials, sock_info, mechanism)\u001b[0m\n\u001b[1;32m    327\u001b[0m server_sig \u001b[38;5;241m=\u001b[39m standard_b64encode(\n\u001b[1;32m    328\u001b[0m     _hmac(server_key, auth_msg, digestmod)\u001b[38;5;241m.\u001b[39mdigest())\n\u001b[1;32m    330\u001b[0m cmd \u001b[38;5;241m=\u001b[39m SON([(\u001b[38;5;124m'\u001b[39m\u001b[38;5;124msaslContinue\u001b[39m\u001b[38;5;124m'\u001b[39m, \u001b[38;5;241m1\u001b[39m),\n\u001b[1;32m    331\u001b[0m            (\u001b[38;5;124m'\u001b[39m\u001b[38;5;124mconversationId\u001b[39m\u001b[38;5;124m'\u001b[39m, res[\u001b[38;5;124m'\u001b[39m\u001b[38;5;124mconversationId\u001b[39m\u001b[38;5;124m'\u001b[39m]),\n\u001b[1;32m    332\u001b[0m            (\u001b[38;5;124m'\u001b[39m\u001b[38;5;124mpayload\u001b[39m\u001b[38;5;124m'\u001b[39m, Binary(client_final))])\n\u001b[0;32m--> 333\u001b[0m res \u001b[38;5;241m=\u001b[39m \u001b[43msock_info\u001b[49m\u001b[38;5;241;43m.\u001b[39;49m\u001b[43mcommand\u001b[49m\u001b[43m(\u001b[49m\u001b[43msource\u001b[49m\u001b[43m,\u001b[49m\u001b[43m \u001b[49m\u001b[43mcmd\u001b[49m\u001b[43m)\u001b[49m\n\u001b[1;32m    335\u001b[0m parsed \u001b[38;5;241m=\u001b[39m _parse_scram_response(res[\u001b[38;5;124m'\u001b[39m\u001b[38;5;124mpayload\u001b[39m\u001b[38;5;124m'\u001b[39m])\n\u001b[1;32m    336\u001b[0m \u001b[38;5;28;01mif\u001b[39;00m \u001b[38;5;129;01mnot\u001b[39;00m compare_digest(parsed[\u001b[38;5;124mb\u001b[39m\u001b[38;5;124m'\u001b[39m\u001b[38;5;124mv\u001b[39m\u001b[38;5;124m'\u001b[39m], server_sig):\n",
      "File \u001b[0;32m/private/maxr/bin/miniconda3/envs/tf4/lib/python3.9/site-packages/pymongo/pool.py:710\u001b[0m, in \u001b[0;36mSocketInfo.command\u001b[0;34m(self, dbname, spec, secondary_ok, read_preference, codec_options, check, allowable_errors, check_keys, read_concern, write_concern, parse_write_concern_error, collation, session, client, retryable_write, publish_events, user_fields, exhaust_allowed)\u001b[0m\n\u001b[1;32m    708\u001b[0m     \u001b[38;5;28mself\u001b[39m\u001b[38;5;241m.\u001b[39m_raise_if_not_writable(unacknowledged)\n\u001b[1;32m    709\u001b[0m \u001b[38;5;28;01mtry\u001b[39;00m:\n\u001b[0;32m--> 710\u001b[0m     \u001b[38;5;28;01mreturn\u001b[39;00m \u001b[43mcommand\u001b[49m\u001b[43m(\u001b[49m\u001b[38;5;28;43mself\u001b[39;49m\u001b[43m,\u001b[49m\u001b[43m \u001b[49m\u001b[43mdbname\u001b[49m\u001b[43m,\u001b[49m\u001b[43m \u001b[49m\u001b[43mspec\u001b[49m\u001b[43m,\u001b[49m\u001b[43m \u001b[49m\u001b[43msecondary_ok\u001b[49m\u001b[43m,\u001b[49m\n\u001b[1;32m    711\u001b[0m \u001b[43m                   \u001b[49m\u001b[38;5;28;43mself\u001b[39;49m\u001b[38;5;241;43m.\u001b[39;49m\u001b[43mis_mongos\u001b[49m\u001b[43m,\u001b[49m\u001b[43m \u001b[49m\u001b[43mread_preference\u001b[49m\u001b[43m,\u001b[49m\u001b[43m \u001b[49m\u001b[43mcodec_options\u001b[49m\u001b[43m,\u001b[49m\n\u001b[1;32m    712\u001b[0m \u001b[43m                   \u001b[49m\u001b[43msession\u001b[49m\u001b[43m,\u001b[49m\u001b[43m \u001b[49m\u001b[43mclient\u001b[49m\u001b[43m,\u001b[49m\u001b[43m \u001b[49m\u001b[43mcheck\u001b[49m\u001b[43m,\u001b[49m\u001b[43m \u001b[49m\u001b[43mallowable_errors\u001b[49m\u001b[43m,\u001b[49m\n\u001b[1;32m    713\u001b[0m \u001b[43m                   \u001b[49m\u001b[38;5;28;43mself\u001b[39;49m\u001b[38;5;241;43m.\u001b[39;49m\u001b[43maddress\u001b[49m\u001b[43m,\u001b[49m\u001b[43m \u001b[49m\u001b[43mcheck_keys\u001b[49m\u001b[43m,\u001b[49m\u001b[43m \u001b[49m\u001b[43mlisteners\u001b[49m\u001b[43m,\u001b[49m\n\u001b[1;32m    714\u001b[0m \u001b[43m                   \u001b[49m\u001b[38;5;28;43mself\u001b[39;49m\u001b[38;5;241;43m.\u001b[39;49m\u001b[43mmax_bson_size\u001b[49m\u001b[43m,\u001b[49m\u001b[43m \u001b[49m\u001b[43mread_concern\u001b[49m\u001b[43m,\u001b[49m\n\u001b[1;32m    715\u001b[0m \u001b[43m                   \u001b[49m\u001b[43mparse_write_concern_error\u001b[49m\u001b[38;5;241;43m=\u001b[39;49m\u001b[43mparse_write_concern_error\u001b[49m\u001b[43m,\u001b[49m\n\u001b[1;32m    716\u001b[0m \u001b[43m                   \u001b[49m\u001b[43mcollation\u001b[49m\u001b[38;5;241;43m=\u001b[39;49m\u001b[43mcollation\u001b[49m\u001b[43m,\u001b[49m\n\u001b[1;32m    717\u001b[0m \u001b[43m                   \u001b[49m\u001b[43mcompression_ctx\u001b[49m\u001b[38;5;241;43m=\u001b[39;49m\u001b[38;5;28;43mself\u001b[39;49m\u001b[38;5;241;43m.\u001b[39;49m\u001b[43mcompression_context\u001b[49m\u001b[43m,\u001b[49m\n\u001b[1;32m    718\u001b[0m \u001b[43m                   \u001b[49m\u001b[43muse_op_msg\u001b[49m\u001b[38;5;241;43m=\u001b[39;49m\u001b[38;5;28;43mself\u001b[39;49m\u001b[38;5;241;43m.\u001b[39;49m\u001b[43mop_msg_enabled\u001b[49m\u001b[43m,\u001b[49m\n\u001b[1;32m    719\u001b[0m \u001b[43m                   \u001b[49m\u001b[43munacknowledged\u001b[49m\u001b[38;5;241;43m=\u001b[39;49m\u001b[43munacknowledged\u001b[49m\u001b[43m,\u001b[49m\n\u001b[1;32m    720\u001b[0m \u001b[43m                   \u001b[49m\u001b[43muser_fields\u001b[49m\u001b[38;5;241;43m=\u001b[39;49m\u001b[43muser_fields\u001b[49m\u001b[43m,\u001b[49m\n\u001b[1;32m    721\u001b[0m \u001b[43m                   \u001b[49m\u001b[43mexhaust_allowed\u001b[49m\u001b[38;5;241;43m=\u001b[39;49m\u001b[43mexhaust_allowed\u001b[49m\u001b[43m)\u001b[49m\n\u001b[1;32m    722\u001b[0m \u001b[38;5;28;01mexcept\u001b[39;00m (OperationFailure, NotPrimaryError):\n\u001b[1;32m    723\u001b[0m     \u001b[38;5;28;01mraise\u001b[39;00m\n",
      "File \u001b[0;32m/private/maxr/bin/miniconda3/envs/tf4/lib/python3.9/site-packages/pymongo/network.py:158\u001b[0m, in \u001b[0;36mcommand\u001b[0;34m(sock_info, dbname, spec, secondary_ok, is_mongos, read_preference, codec_options, session, client, check, allowable_errors, address, check_keys, listeners, max_bson_size, read_concern, parse_write_concern_error, collation, compression_ctx, use_op_msg, unacknowledged, user_fields, exhaust_allowed)\u001b[0m\n\u001b[1;32m    156\u001b[0m             client\u001b[38;5;241m.\u001b[39m_process_response(response_doc, session)\n\u001b[1;32m    157\u001b[0m         \u001b[38;5;28;01mif\u001b[39;00m check:\n\u001b[0;32m--> 158\u001b[0m             \u001b[43mhelpers\u001b[49m\u001b[38;5;241;43m.\u001b[39;49m\u001b[43m_check_command_response\u001b[49m\u001b[43m(\u001b[49m\n\u001b[1;32m    159\u001b[0m \u001b[43m                \u001b[49m\u001b[43mresponse_doc\u001b[49m\u001b[43m,\u001b[49m\u001b[43m \u001b[49m\u001b[43msock_info\u001b[49m\u001b[38;5;241;43m.\u001b[39;49m\u001b[43mmax_wire_version\u001b[49m\u001b[43m,\u001b[49m\u001b[43m \u001b[49m\u001b[43mallowable_errors\u001b[49m\u001b[43m,\u001b[49m\n\u001b[1;32m    160\u001b[0m \u001b[43m                \u001b[49m\u001b[43mparse_write_concern_error\u001b[49m\u001b[38;5;241;43m=\u001b[39;49m\u001b[43mparse_write_concern_error\u001b[49m\u001b[43m)\u001b[49m\n\u001b[1;32m    161\u001b[0m \u001b[38;5;28;01mexcept\u001b[39;00m \u001b[38;5;167;01mException\u001b[39;00m \u001b[38;5;28;01mas\u001b[39;00m exc:\n\u001b[1;32m    162\u001b[0m     \u001b[38;5;28;01mif\u001b[39;00m publish:\n",
      "File \u001b[0;32m/private/maxr/bin/miniconda3/envs/tf4/lib/python3.9/site-packages/pymongo/helpers.py:167\u001b[0m, in \u001b[0;36m_check_command_response\u001b[0;34m(response, max_wire_version, allowable_errors, parse_write_concern_error)\u001b[0m\n\u001b[1;32m    164\u001b[0m \u001b[38;5;28;01melif\u001b[39;00m code \u001b[38;5;241m==\u001b[39m \u001b[38;5;241m43\u001b[39m:\n\u001b[1;32m    165\u001b[0m     \u001b[38;5;28;01mraise\u001b[39;00m CursorNotFound(errmsg, code, response, max_wire_version)\n\u001b[0;32m--> 167\u001b[0m \u001b[38;5;28;01mraise\u001b[39;00m OperationFailure(errmsg, code, response, max_wire_version)\n",
      "\u001b[0;31mOperationFailure\u001b[0m: Authentication failed., full error: {'ok': 0.0, 'errmsg': 'Authentication failed.', 'code': 18, 'codeName': 'AuthenticationFailed'}"
     ]
    }
   ],
   "source": [
    "### create MongoDB document\n",
    "\n",
    "_id_lin = mdb_col.insert_one(pars)\n",
    "_id_lin = str(_id_lin.inserted_id)\n",
    "print(_id_lin)"
   ]
  },
  {
   "cell_type": "code",
   "execution_count": null,
   "metadata": {},
   "outputs": [],
   "source": [
    "data = data_source.load_dc_ramp_data(pars['data_path'], Xlabels =[\"Vlat21\", \"Vfglat1\", \"Vtglat1\", \"Vbglat1\"], Ylabel=[\"ids\"])\n",
    "\n",
    "# select BG = lat1 = 0V\n",
    "data = data[data[\"Vbglat1\"] == 0]\n",
    "\n",
    "\n",
    "res = []\n",
    "\n",
    "# perform 3 times with a different random seed each time\n",
    "for i in range(0,i_max):\n",
    "\n",
    "    mdl,loss,MAE,R2 = NN_run.mx_run_NN_lin(\n",
    "                    save_path = pars['save_path'], \n",
    "                    epochs = pars['tf_epochs'],\n",
    "                    augmentation_type = pars['augmentation_type'],\n",
    "                    random_seed = i,\n",
    "                    data = data,\n",
    "                    Xlabels = Xlabels,\n",
    "                    Ylabel = Ylabel,\n",
    "                    es_patience = pars[\"tf_es_patience\"],\n",
    "                    es_delta = pars[\"tf_es_delta\"], \n",
    "                    _id = _id_lin,\n",
    "                    n_neurons = pars[\"tf_n_neurons\"])\n",
    "\n",
    "    res.append({\"i\": i,\"MAE\": MAE, \"R2\": R2, \"loss\": loss, \"model\" : mdl})\n",
    "    print(f\"i: {i}\\nloss {loss}\\nMAE {MAE}\\nR2 {R2}\\nn\")    \n"
   ]
  },
  {
   "cell_type": "code",
   "execution_count": null,
   "metadata": {},
   "outputs": [],
   "source": [
    "# print results\n",
    "pd_res_lin = pd.DataFrame(res)\n",
    "\n",
    "pd_res_lin.sort_values(by=[\"R2\"], inplace=True, ascending=False)\n",
    "pd_res_lin.reset_index(inplace=True)\n",
    "\n",
    "print(pd_res_lin)\n",
    "\n",
    "# get best model\n",
    "best_model_lin_id = pd_res_lin[\"R2\"].idxmax()\n",
    "best_model = pd_res_lin.loc[best_model_lin_id, \"model\"]\n",
    "\n",
    "\n",
    "# save model with best R2 score\n",
    "\n",
    "best_model.save(pars['save_path'] + \"/\" + str(_id_lin))\n"
   ]
  },
  {
   "cell_type": "markdown",
   "metadata": {},
   "source": [
    "## Metrics"
   ]
  },
  {
   "cell_type": "code",
   "execution_count": null,
   "metadata": {},
   "outputs": [],
   "source": [
    "# check availabel metrics for mdl\n",
    "\n",
    "trainVal,test = uf.split_trainVal_test_set(all_data=data)\n",
    "y_pred = mdl.predict(test[[\"Vlat21\",\"Vfglat1\", \"Vtglat1\"]])\n",
    "\n",
    "y_pred = np.array(y_pred)\n",
    "y_true = np.array(test[\"ids\"])\n",
    "\n",
    "print(f'R2 current model: %.6f' % skm.r2_score(y_true,y_pred))\n",
    "print('MAE current model: %.4E' %(skm.mean_absolute_error(y_true,y_pred)))\n",
    "print('MSE current model: %.4E' %(skm.mean_squared_error(y_true,y_pred)))\n",
    "print('MAPE current model: %.4E' %(skm.mean_absolute_percentage_error(y_true,y_pred)))\n",
    "print('sMAPE current model: %.6f' %(uf.Smape(y_true,y_pred)))\n"
   ]
  },
  {
   "cell_type": "code",
   "execution_count": null,
   "metadata": {},
   "outputs": [],
   "source": [
    "Vfg = (data[\"Vfglat1\"] == 1.4)\n",
    "Vtg = (data[\"Vtglat1\"] == 1.4)\n",
    "\n",
    "Vbg = (data[\"Vbglat1\"] == 0)\n",
    "\n",
    "data_true = data.loc[Vfg & Vbg & Vtg]\n",
    "\n",
    "fig, ax1= plt.subplots()\n",
    "\n",
    "# ax2 = plt.twinx()\n",
    "\n",
    "y_pred = mdl.predict(data_true[[\"Vlat21\",\"Vfglat1\", \"Vtglat1\"]])\n",
    "                      \n",
    "y_pred = y_pred[:,0]\n",
    "\n",
    "ax1.plot(data_true[\"Vlat21\"], - data_true[\"ids\"], label=\"ids_true\")\n",
    "ax1.plot(data_true[\"Vlat21\"], -y_pred, \"o\",label=\"ids_pred\")\n",
    "\n",
    "\n",
    "\n",
    "# ax2 = ax1.twinx()\n",
    "\n",
    "# ax2.plot(cv_line[\"Vfglat1\"], cv_line[\"Vfglat1\"],\".\")\n",
    "\n",
    "ax1.legend()\n",
    "ax1.grid()\n"
   ]
  },
  {
   "cell_type": "markdown",
   "metadata": {},
   "source": [
    "# LOGARITHMIC MODEL"
   ]
  },
  {
   "cell_type": "code",
   "execution_count": null,
   "metadata": {},
   "outputs": [],
   "source": [
    "pars = {\n",
    "    \"data_type\"                         : 'DC',\n",
    "    \"data_path\"                         : f\"{config.dir_data}/{str_run}_{sweep_gate}_minstep{minstep}_export.pkl\",\n",
    "    \"save_path\"                         : f\"NN_models/mx/log/\",\n",
    "\n",
    "    \"mdl_type\"                          : 'log',\n",
    "    \"mdl_arch\"                          : 'NN',\n",
    "\n",
    "    \"augmentation_type\"                 : \"gauss_noise_3\",\n",
    "    \"train_test_split_random_seed\"      : 2,\n",
    "\n",
    "    \"tf_epochs\"                         : 1000,\n",
    "    \"tf_es_patience\"                    : 120,\n",
    "    \"tf_es_delta\"                       : 1E-07,\n",
    "    \n",
    "    \"user\"                              : os.getlogin(),\n",
    "    \"comment\"                           : \"minimal example test\"\n",
    "}"
   ]
  },
  {
   "cell_type": "code",
   "execution_count": null,
   "metadata": {},
   "outputs": [],
   "source": [
    "# _id = \"test\"\n",
    "_id_log = mdb_col.insert_one(pars)\n",
    "_id_log = str(_id_log.inserted_id)\n",
    "print(_id_log)"
   ]
  },
  {
   "cell_type": "code",
   "execution_count": null,
   "metadata": {},
   "outputs": [],
   "source": [
    "data = data_source.load_dc_ramp_data(pars['data_path'], Xlabels =[\"Vlat21\", \"Vfglat1\", \"Vtglat1\", \"Vbglat1\"], Ylabel=[\"ids\"])\n",
    "\n",
    "# select BG = lat1 = 0V\n",
    "data = data[data[\"Vbglat1\"] == 0] \n",
    "\n",
    "# only regard i<1mA for logarithmic model, because for larger currents the linear model dominates anyway (weight function)\n",
    "data = data[data[\"ids\"] < 1]\n",
    "\n",
    "\n",
    "Xlabels =   [\"Vlat21\", \"Vfglat1\", \"Vtglat1\"]\n",
    "Ylabel  =   [\"ids\"]"
   ]
  },
  {
   "cell_type": "code",
   "execution_count": null,
   "metadata": {},
   "outputs": [],
   "source": [
    "res = []\n",
    "\n",
    "for i in range(1,i_max):\n",
    "    mdl,loss,MAE,R2 = NN_run.mx_run_NN_log(\n",
    "                    save_path = pars['save_path'], \n",
    "                    epochs = pars['tf_epochs'],\n",
    "                    augmentation_type = pars['augmentation_type'],\n",
    "                    random_seed = i,\n",
    "                    data = data,\n",
    "                    Xlabels = Xlabels,\n",
    "                    Ylabel = Ylabel,\n",
    "                    es_patience = pars[\"tf_es_patience\"],\n",
    "                    es_delta = pars[\"tf_es_delta\"], \n",
    "                    _id = _id_log)\n",
    "\n",
    "    res.append({\"i\": i,\"MAE\": MAE, \"R2\": R2, \"loss\": loss, \"model\" : mdl})\n",
    "    print(f\"i: {i}\\nloss {loss}\\nMAE {MAE}\\nR2 {R2}\\nn\")    \n"
   ]
  },
  {
   "cell_type": "code",
   "execution_count": null,
   "metadata": {},
   "outputs": [],
   "source": [
    "# print results\n",
    "pd_res_log = pd.DataFrame(res)\n",
    "\n",
    "pd_res_log.sort_values(by=[\"R2\"], inplace=True, ascending=False)\n",
    "pd_res_log.reset_index(inplace=True)\n",
    "\n",
    "print(pd_res_log)\n",
    "\n",
    "# get best model\n",
    "best_model_log_id = pd_res_log[\"R2\"].idxmax()\n",
    "best_model = pd_res_log.loc[best_model_log_id, \"model\"]\n",
    "\n",
    "\n",
    "# save model with best R2 score\n",
    "\n",
    "best_model.save(pars['save_path'] + \"/\" + str(_id_log))\n",
    "\n"
   ]
  },
  {
   "cell_type": "markdown",
   "metadata": {},
   "source": [
    "# Q Model (symbolic regression)"
   ]
  },
  {
   "cell_type": "code",
   "execution_count": null,
   "metadata": {},
   "outputs": [],
   "source": [
    "pars = {\n",
    "    \"data_type\"                         : 'DC',\n",
    "    \"data_path\"                         : f\"{config.dir_data}/{str_run}_{sweep_gate}_minstep{minstep}_export.pkl\",\n",
    "    \"save_path\"                         : f\"Qlattice/models/mx\",\n",
    "\n",
    "    \"mdl_type\"                          : 'Q',\n",
    "    \"mdl_arch\"                          : 'SR',\n",
    "    \"augmentation_type\"                 : None,\n",
    "\n",
    "    \"sr_num_epochs\"                     : 500,\n",
    "    \"sr_max_complexity\"                 : 50,\n",
    "    \"sr_train_size\"                     : 0.6,\n",
    "    \"sr_transfer\"                       : None,\n",
    "    # \"sr_transfer\"                       : \"Thung\",\n",
    "\n",
    "    \n",
    "    \"user\"                              : os.getlogin(),\n",
    "    \"comment\"                           : \"minimal example test\"\n",
    "}\n",
    "\n"
   ]
  },
  {
   "cell_type": "code",
   "execution_count": null,
   "metadata": {},
   "outputs": [],
   "source": [
    "_id_q = mdb_col.insert_one(pars)\n",
    "_id_q = str(_id_q.inserted_id)\n",
    "print(_id_q)"
   ]
  },
  {
   "cell_type": "code",
   "execution_count": null,
   "metadata": {},
   "outputs": [],
   "source": [
    "if False:\n",
    "    Q_list = [\"Qfg\", \"Qtg\", \"Qlat2\", \"Qlat1\"]\n",
    "\n",
    "    data = data_source.load_dc_ramp_data(pars['data_path'], Xlabels =[\"Vlat21\", \"Vfglat1\", \"Vtglat1\", \"Vbglat1\"], Ylabel=Q_list)\n",
    "\n",
    "    # select BG = lat1 = 0V\n",
    "    data = data[data[\"Vbglat1\"] == 0]\n",
    "\n",
    "    Xlabels =   [\"Vlat21\", \"Vfglat1\", \"Vtglat1\"]\n",
    "\n",
    "    res = {}\n",
    "\n",
    "    for Q in Q_list:\n",
    "        \n",
    "        Ylabel  =   [Q]\n",
    "\n",
    "        (r2_all, MSE_all, train, test, best_model, mae_test, mse_test) = Run_qlattice.mx_run_ql(random_seed=1,\n",
    "                                    num_epochs= pars[\"sr_num_epochs\"],\n",
    "                                    bound_ilat_to= None,\n",
    "                                    sigma_gaus_aug= pars[\"augmentation_type\"],\n",
    "                                    max_complexity= pars[\"sr_max_complexity\"],\n",
    "                                    train_size = pars[\"sr_train_size\"],\n",
    "                                    transfer=pars[\"sr_transfer\"],\n",
    "                                    save_path=pars[\"save_path\"],\n",
    "                                    # starting_model=[feyn.Model.load('./Qlattice/models/Set2_transfer1.json')],\n",
    "                                    starting_model=None,\n",
    "                                    scale = True,\n",
    "                                    data = data,\n",
    "                                    Xlabels = Xlabels,\n",
    "                                    Ylabel = Ylabel,\n",
    "                                    sorting_crit='bic',\n",
    "                                    id = _id_q + \"_\" + Q ,\n",
    "                                    # id = \"qfg_test\",\n",
    "                                    mdl_type = pars[\"mdl_type\"],\n",
    "                                    scaling= 1E15\n",
    "                                    )\n",
    "        \n",
    "        res[Q] = {\"r2_all\" : r2_all, \"MSE_all\" : MSE_all, \"train\": train, \"test\" : test, \"model\" : best_model, \"mae_test\" : mae_test, \"mse_test\" : mse_test}\n",
    "else:\n",
    "    _id_q = \"650375e8daf354a0227a9917\"  #use an existing q model"
   ]
  },
  {
   "cell_type": "markdown",
   "metadata": {},
   "source": [
    "# COMPOSE MODEL"
   ]
  },
  {
   "cell_type": "code",
   "execution_count": null,
   "metadata": {},
   "outputs": [],
   "source": [
    "# instantiate RFET compact model object from linear, logarithmic and Q model\n",
    "compact_mdl = rmdl.rfet_model(\"testnamex\", I_model = {\"lin\" : _id_lin, \"log\" : _id_log}, Q_model = _id_q)     \n",
    "\n",
    "# create Verilog-A file in <path>\n",
    "compact_mdl.compile(path=\"/home/maxr/PARFAIT/Cadence/Models/pRFET_eval/pRFET_NN/veriloga/veriloga.va\", significant_digits = 8) "
   ]
  },
  {
   "cell_type": "markdown",
   "metadata": {},
   "source": [
    "# SIMULATE INVERTER IN CADENCE"
   ]
  },
  {
   "cell_type": "code",
   "execution_count": null,
   "metadata": {},
   "outputs": [],
   "source": [
    "compact_mdl.sim_cds_inv(template_file=\"templates/inv_template.ocn\", n_steps=200)"
   ]
  },
  {
   "cell_type": "code",
   "execution_count": null,
   "metadata": {},
   "outputs": [],
   "source": [
    "print(f\"{_id_lin}, {_id_log}\")"
   ]
  },
  {
   "cell_type": "code",
   "execution_count": null,
   "metadata": {},
   "outputs": [],
   "source": [
    "# get transition from 90% to 10% of Vdd\n",
    "y_high  = 0.9 * 1.4\n",
    "y_low   = 0.1 * 1.4\n",
    "\n",
    "xlow, xhigh, width, xcenter, df_extended, fig_inv = rmdl.rfet_model.getTransition(compact_mdl.trace_cds_inv, y_high, y_low, plot=True)"
   ]
  },
  {
   "cell_type": "code",
   "execution_count": null,
   "metadata": {},
   "outputs": [],
   "source": [
    "rmdl.rfet_model.plotINVVTC(compact_mdl.trace_cds_inv,plot=True)"
   ]
  }
 ],
 "metadata": {
  "kernelspec": {
   "display_name": "tf",
   "language": "python",
   "name": "python3"
  },
  "language_info": {
   "codemirror_mode": {
    "name": "ipython",
    "version": 3
   },
   "file_extension": ".py",
   "mimetype": "text/x-python",
   "name": "python",
   "nbconvert_exporter": "python",
   "pygments_lexer": "ipython3",
   "version": "3.9.17"
  },
  "orig_nbformat": 4
 },
 "nbformat": 4,
 "nbformat_minor": 2
}
