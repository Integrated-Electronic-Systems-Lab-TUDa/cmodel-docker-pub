{
 "cells": [
  {
   "cell_type": "code",
   "execution_count": null,
   "metadata": {},
   "outputs": [],
   "source": [
    "%load_ext tensorboard\n",
    "\n",
    "\n",
    "\n",
    "import sys\n",
    "import os\n",
    "\n",
    "import config\n",
    "\n",
    "# import Run_qlattice\n",
    "\n",
    "import re\n",
    "import hashlib\n",
    "import matplotlib.pyplot as plt\n",
    "import pandas as pd\n",
    "import numpy as np\n",
    "import NN_run\n",
    "import prepare_data as data_source\n",
    "import mongodb_driver\n",
    "import requests\n",
    "import feyn\n",
    "\n",
    "import utility_func as uf\n",
    "import sklearn.metrics as skm \n",
    "from matplotlib import pyplot as plt\n",
    "import numpy.ma as ma\n",
    "from sklearn.model_selection import train_test_split\n",
    "\n",
    "import rfet_model as rmdl\n",
    "\n"
   ]
  },
  {
   "cell_type": "code",
   "execution_count": 2,
   "metadata": {},
   "outputs": [],
   "source": [
    "# mdb = mongodb_driver.mdb_connect(\"mdb_cmodel\", \"felixl\", \"mdbpass\")\n",
    "mdb = mongodb_driver.mdb_connect(\"mdb_cmodel\", \"root\", \"tyjWbtU4DRnuXqdhK\")\n",
    "\n",
    "mdb_col = mdb[\"NN\"]"
   ]
  },
  {
   "cell_type": "code",
   "execution_count": 3,
   "metadata": {},
   "outputs": [],
   "source": [
    "# PARAMETERS\n",
    "minstep = 0.01                                  # minimum stepsize, refers to $\\Delta V_{sweep}$ in section 4.2.1\n",
    "i_max = 1                                       # maximum number of models to generate in parallel, with different seeds\n",
    "str_run = \"run_regular_grid_common_goal\"        # PyTaurus run to extract the data from. \"run_regular_grid_common_goal\" is used in the dissertation\n",
    "sweep_gate = \"lat2\"                             # the respective gate sweep to be used"
   ]
  },
  {
   "cell_type": "markdown",
   "metadata": {},
   "source": [
    "# LINEAR MODEL"
   ]
  },
  {
   "cell_type": "code",
   "execution_count": 4,
   "metadata": {},
   "outputs": [],
   "source": [
    "\n",
    "\n",
    "pars = {\n",
    "    \"data_type\"                         : 'DC',\n",
    "    \"data_path\"                         : f\"{config.dir_data}/{str_run}_{sweep_gate}_minstep{minstep}_export.pkl\",\n",
    "    \"save_path\"                         : f\"NN_models/mx/lin/\",\n",
    "\n",
    "    \"mdl_type\"                          : 'lin',\n",
    "    \"mdl_arch\"                          : 'NN',\n",
    "\n",
    "    # \"augmentation_type\"                 : \"gauss_noise_3\",\n",
    "    \"augmentation_type\"                 : None,\n",
    "    \"train_test_split_random_seed\"      : 20,\n",
    "\n",
    "    \"tf_epochs\"                         : 1000,\n",
    "    \"tf_es_patience\"                    : 120,\n",
    "    \"tf_es_delta\"                       : 1E-07,\n",
    "    \"tf_n_neurons\"                      : 16,\n",
    "    \n",
    "    \"user\"                              : os.getlogin(),\n",
    "    \"comment\"                           : \"minimal example test\"\n",
    "}\n",
    "\n",
    "Xlabels =   [\"Vlat21\", \"Vfglat1\", \"Vtglat1\"]\n",
    "Ylabel  =   [\"ids\"]\n",
    "\n"
   ]
  },
  {
   "cell_type": "code",
   "execution_count": null,
   "metadata": {},
   "outputs": [],
   "source": [
    "### create MongoDB document\n",
    "\n",
    "_id_lin = mdb_col.insert_one(pars)\n",
    "_id_lin = str(_id_lin.inserted_id)\n",
    "print(_id_lin)"
   ]
  },
  {
   "cell_type": "code",
   "execution_count": null,
   "metadata": {},
   "outputs": [],
   "source": [
    "data = data_source.load_dc_ramp_data(pars['data_path'], Xlabels =[\"Vlat21\", \"Vfglat1\", \"Vtglat1\", \"Vbglat1\"], Ylabel=[\"ids\"])\n",
    "\n",
    "# select BG = lat1 = 0V\n",
    "data = data[data[\"Vbglat1\"] == 0]\n",
    "\n",
    "\n",
    "res = []\n",
    "\n",
    "# perform 3 times with a different random seed each time\n",
    "for i in range(0,i_max):\n",
    "\n",
    "    mdl,loss,MAE,R2 = NN_run.mx_run_NN_lin(\n",
    "                    save_path = pars['save_path'], \n",
    "                    epochs = pars['tf_epochs'],\n",
    "                    augmentation_type = pars['augmentation_type'],\n",
    "                    random_seed = i,\n",
    "                    data = data,\n",
    "                    Xlabels = Xlabels,\n",
    "                    Ylabel = Ylabel,\n",
    "                    es_patience = pars[\"tf_es_patience\"],\n",
    "                    es_delta = pars[\"tf_es_delta\"], \n",
    "                    _id = _id_lin,\n",
    "                    n_neurons = pars[\"tf_n_neurons\"])\n",
    "\n",
    "    res.append({\"i\": i,\"MAE\": MAE, \"R2\": R2, \"loss\": loss, \"model\" : mdl})\n",
    "    print(f\"i: {i}\\nloss {loss}\\nMAE {MAE}\\nR2 {R2}\\nn\")    \n"
   ]
  },
  {
   "cell_type": "code",
   "execution_count": null,
   "metadata": {},
   "outputs": [],
   "source": [
    "# print results\n",
    "pd_res_lin = pd.DataFrame(res)\n",
    "\n",
    "pd_res_lin.sort_values(by=[\"R2\"], inplace=True, ascending=False)\n",
    "pd_res_lin.reset_index(inplace=True)\n",
    "\n",
    "print(pd_res_lin)\n",
    "\n",
    "# get best model\n",
    "best_model_lin_id = pd_res_lin[\"R2\"].idxmax()\n",
    "best_model = pd_res_lin.loc[best_model_lin_id, \"model\"]\n",
    "\n",
    "\n",
    "# save model with best R2 score\n",
    "\n",
    "best_model.save(pars['save_path'] + \"/\" + str(_id_lin))\n"
   ]
  },
  {
   "cell_type": "markdown",
   "metadata": {},
   "source": [
    "## Metrics"
   ]
  },
  {
   "cell_type": "code",
   "execution_count": null,
   "metadata": {},
   "outputs": [],
   "source": [
    "# check availabel metrics for mdl\n",
    "\n",
    "trainVal,test = uf.split_trainVal_test_set(all_data=data)\n",
    "y_pred = mdl.predict(test[[\"Vlat21\",\"Vfglat1\", \"Vtglat1\"]])\n",
    "\n",
    "y_pred = np.array(y_pred)\n",
    "y_true = np.array(test[\"ids\"])\n",
    "\n",
    "print(f'R2 current model: %.6f' % skm.r2_score(y_true,y_pred))\n",
    "print('MAE current model: %.4E' %(skm.mean_absolute_error(y_true,y_pred)))\n",
    "print('MSE current model: %.4E' %(skm.mean_squared_error(y_true,y_pred)))\n",
    "print('MAPE current model: %.4E' %(skm.mean_absolute_percentage_error(y_true,y_pred)))\n",
    "print('sMAPE current model: %.6f' %(uf.Smape(y_true,y_pred)))\n"
   ]
  },
  {
   "cell_type": "code",
   "execution_count": null,
   "metadata": {},
   "outputs": [],
   "source": [
    "Vfg = (data[\"Vfglat1\"] == 1.4)\n",
    "Vtg = (data[\"Vtglat1\"] == 1.4)\n",
    "\n",
    "Vbg = (data[\"Vbglat1\"] == 0)\n",
    "\n",
    "data_true = data.loc[Vfg & Vbg & Vtg]\n",
    "\n",
    "fig, ax1= plt.subplots()\n",
    "\n",
    "# ax2 = plt.twinx()\n",
    "\n",
    "y_pred = mdl.predict(data_true[[\"Vlat21\",\"Vfglat1\", \"Vtglat1\"]])\n",
    "                      \n",
    "y_pred = y_pred[:,0]\n",
    "\n",
    "ax1.plot(data_true[\"Vlat21\"], - data_true[\"ids\"], label=\"ids_true\")\n",
    "ax1.plot(data_true[\"Vlat21\"], -y_pred, \"o\",label=\"ids_pred\")\n",
    "\n",
    "\n",
    "\n",
    "# ax2 = ax1.twinx()\n",
    "\n",
    "# ax2.plot(cv_line[\"Vfglat1\"], cv_line[\"Vfglat1\"],\".\")\n",
    "\n",
    "ax1.legend()\n",
    "ax1.grid()\n"
   ]
  },
  {
   "cell_type": "markdown",
   "metadata": {},
   "source": [
    "# LOGARITHMIC MODEL"
   ]
  },
  {
   "cell_type": "code",
   "execution_count": null,
   "metadata": {},
   "outputs": [],
   "source": [
    "pars = {\n",
    "    \"data_type\"                         : 'DC',\n",
    "    \"data_path\"                         : f\"{config.dir_data}/{str_run}_{sweep_gate}_minstep{minstep}_export.pkl\",\n",
    "    \"save_path\"                         : f\"NN_models/mx/log/\",\n",
    "\n",
    "    \"mdl_type\"                          : 'log',\n",
    "    \"mdl_arch\"                          : 'NN',\n",
    "\n",
    "    \"augmentation_type\"                 : \"gauss_noise_3\",\n",
    "    \"train_test_split_random_seed\"      : 2,\n",
    "\n",
    "    \"tf_epochs\"                         : 1000,\n",
    "    \"tf_es_patience\"                    : 120,\n",
    "    \"tf_es_delta\"                       : 1E-07,\n",
    "    \n",
    "    \"user\"                              : os.getlogin(),\n",
    "    \"comment\"                           : \"minimal example test\"\n",
    "}"
   ]
  },
  {
   "cell_type": "code",
   "execution_count": null,
   "metadata": {},
   "outputs": [],
   "source": [
    "# _id = \"test\"\n",
    "_id_log = mdb_col.insert_one(pars)\n",
    "_id_log = str(_id_log.inserted_id)\n",
    "print(_id_log)"
   ]
  },
  {
   "cell_type": "code",
   "execution_count": null,
   "metadata": {},
   "outputs": [],
   "source": [
    "data = data_source.load_dc_ramp_data(pars['data_path'], Xlabels =[\"Vlat21\", \"Vfglat1\", \"Vtglat1\", \"Vbglat1\"], Ylabel=[\"ids\"])\n",
    "\n",
    "# select BG = lat1 = 0V\n",
    "data = data[data[\"Vbglat1\"] == 0] \n",
    "\n",
    "# only regard i<1mA for logarithmic model, because for larger currents the linear model dominates anyway (weight function)\n",
    "data = data[data[\"ids\"] < 1]\n",
    "\n",
    "\n",
    "Xlabels =   [\"Vlat21\", \"Vfglat1\", \"Vtglat1\"]\n",
    "Ylabel  =   [\"ids\"]"
   ]
  },
  {
   "cell_type": "code",
   "execution_count": null,
   "metadata": {},
   "outputs": [],
   "source": [
    "res = []\n",
    "\n",
    "for i in range(1,i_max):\n",
    "    mdl,loss,MAE,R2 = NN_run.mx_run_NN_log(\n",
    "                    save_path = pars['save_path'], \n",
    "                    epochs = pars['tf_epochs'],\n",
    "                    augmentation_type = pars['augmentation_type'],\n",
    "                    random_seed = i,\n",
    "                    data = data,\n",
    "                    Xlabels = Xlabels,\n",
    "                    Ylabel = Ylabel,\n",
    "                    es_patience = pars[\"tf_es_patience\"],\n",
    "                    es_delta = pars[\"tf_es_delta\"], \n",
    "                    _id = _id_log)\n",
    "\n",
    "    res.append({\"i\": i,\"MAE\": MAE, \"R2\": R2, \"loss\": loss, \"model\" : mdl})\n",
    "    print(f\"i: {i}\\nloss {loss}\\nMAE {MAE}\\nR2 {R2}\\nn\")    \n"
   ]
  },
  {
   "cell_type": "code",
   "execution_count": null,
   "metadata": {},
   "outputs": [],
   "source": [
    "# print results\n",
    "pd_res_log = pd.DataFrame(res)\n",
    "\n",
    "pd_res_log.sort_values(by=[\"R2\"], inplace=True, ascending=False)\n",
    "pd_res_log.reset_index(inplace=True)\n",
    "\n",
    "print(pd_res_log)\n",
    "\n",
    "# get best model\n",
    "best_model_log_id = pd_res_log[\"R2\"].idxmax()\n",
    "best_model = pd_res_log.loc[best_model_log_id, \"model\"]\n",
    "\n",
    "\n",
    "# save model with best R2 score\n",
    "\n",
    "best_model.save(pars['save_path'] + \"/\" + str(_id_log))\n",
    "\n"
   ]
  },
  {
   "cell_type": "markdown",
   "metadata": {},
   "source": [
    "# Q Model (symbolic regression)"
   ]
  },
  {
   "cell_type": "code",
   "execution_count": null,
   "metadata": {},
   "outputs": [],
   "source": [
    "pars = {\n",
    "    \"data_type\"                         : 'DC',\n",
    "    \"data_path\"                         : f\"{config.dir_data}/{str_run}_{sweep_gate}_minstep{minstep}_export.pkl\",\n",
    "    \"save_path\"                         : f\"Qlattice/models/mx\",\n",
    "\n",
    "    \"mdl_type\"                          : 'Q',\n",
    "    \"mdl_arch\"                          : 'SR',\n",
    "    \"augmentation_type\"                 : None,\n",
    "\n",
    "    \"sr_num_epochs\"                     : 500,\n",
    "    \"sr_max_complexity\"                 : 50,\n",
    "    \"sr_train_size\"                     : 0.6,\n",
    "    \"sr_transfer\"                       : None,\n",
    "    # \"sr_transfer\"                       : \"Thung\",\n",
    "\n",
    "    \n",
    "    \"user\"                              : os.getlogin(),\n",
    "    \"comment\"                           : \"minimal example test\"\n",
    "}\n",
    "\n"
   ]
  },
  {
   "cell_type": "code",
   "execution_count": null,
   "metadata": {},
   "outputs": [],
   "source": [
    "_id_q = mdb_col.insert_one(pars)\n",
    "_id_q = str(_id_q.inserted_id)\n",
    "print(_id_q)"
   ]
  },
  {
   "cell_type": "code",
   "execution_count": null,
   "metadata": {},
   "outputs": [],
   "source": [
    "if False:\n",
    "    Q_list = [\"Qfg\", \"Qtg\", \"Qlat2\", \"Qlat1\"]\n",
    "\n",
    "    data = data_source.load_dc_ramp_data(pars['data_path'], Xlabels =[\"Vlat21\", \"Vfglat1\", \"Vtglat1\", \"Vbglat1\"], Ylabel=Q_list)\n",
    "\n",
    "    # select BG = lat1 = 0V\n",
    "    data = data[data[\"Vbglat1\"] == 0]\n",
    "\n",
    "    Xlabels =   [\"Vlat21\", \"Vfglat1\", \"Vtglat1\"]\n",
    "\n",
    "    res = {}\n",
    "\n",
    "    for Q in Q_list:\n",
    "        \n",
    "        Ylabel  =   [Q]\n",
    "\n",
    "        (r2_all, MSE_all, train, test, best_model, mae_test, mse_test) = Run_qlattice.mx_run_ql(random_seed=1,\n",
    "                                    num_epochs= pars[\"sr_num_epochs\"],\n",
    "                                    bound_ilat_to= None,\n",
    "                                    sigma_gaus_aug= pars[\"augmentation_type\"],\n",
    "                                    max_complexity= pars[\"sr_max_complexity\"],\n",
    "                                    train_size = pars[\"sr_train_size\"],\n",
    "                                    transfer=pars[\"sr_transfer\"],\n",
    "                                    save_path=pars[\"save_path\"],\n",
    "                                    # starting_model=[feyn.Model.load('./Qlattice/models/Set2_transfer1.json')],\n",
    "                                    starting_model=None,\n",
    "                                    scale = True,\n",
    "                                    data = data,\n",
    "                                    Xlabels = Xlabels,\n",
    "                                    Ylabel = Ylabel,\n",
    "                                    sorting_crit='bic',\n",
    "                                    id = _id_q + \"_\" + Q ,\n",
    "                                    # id = \"qfg_test\",\n",
    "                                    mdl_type = pars[\"mdl_type\"],\n",
    "                                    scaling= 1E15\n",
    "                                    )\n",
    "        \n",
    "        res[Q] = {\"r2_all\" : r2_all, \"MSE_all\" : MSE_all, \"train\": train, \"test\" : test, \"model\" : best_model, \"mae_test\" : mae_test, \"mse_test\" : mse_test}\n",
    "else:\n",
    "    _id_q = \"650375e8daf354a0227a9917\"  #use an existing q model"
   ]
  },
  {
   "cell_type": "markdown",
   "metadata": {},
   "source": [
    "# COMPOSE MODEL"
   ]
  },
  {
   "cell_type": "code",
   "execution_count": null,
   "metadata": {},
   "outputs": [],
   "source": [
    "# instantiate RFET compact model object from linear, logarithmic and Q model\n",
    "compact_mdl = rmdl.rfet_model(\"testnamex\", I_model = {\"lin\" : _id_lin, \"log\" : _id_log}, Q_model = _id_q)     \n",
    "\n",
    "# create Verilog-A file in <path>\n",
    "compact_mdl.compile(path=\"export/veriloga.va\", significant_digits = 8) "
   ]
  },
  {
   "cell_type": "markdown",
   "metadata": {},
   "source": [
    "# SIMULATE INVERTER IN CADENCE"
   ]
  },
  {
   "cell_type": "code",
   "execution_count": null,
   "metadata": {},
   "outputs": [],
   "source": [
    "compact_mdl.sim_cds_inv(template_file=\"templates/inv_template.ocn\", n_steps=200)"
   ]
  },
  {
   "cell_type": "code",
   "execution_count": null,
   "metadata": {},
   "outputs": [],
   "source": [
    "print(f\"{_id_lin}, {_id_log}\")"
   ]
  },
  {
   "cell_type": "code",
   "execution_count": null,
   "metadata": {},
   "outputs": [],
   "source": [
    "# get transition from 90% to 10% of Vdd\n",
    "y_high  = 0.9 * 1.4\n",
    "y_low   = 0.1 * 1.4\n",
    "\n",
    "xlow, xhigh, width, xcenter, df_extended, fig_inv = rmdl.rfet_model.getTransition(compact_mdl.trace_cds_inv, y_high, y_low, plot=True)"
   ]
  },
  {
   "cell_type": "code",
   "execution_count": null,
   "metadata": {},
   "outputs": [],
   "source": [
    "rmdl.rfet_model.plotINVVTC(compact_mdl.trace_cds_inv,plot=True)"
   ]
  }
 ],
 "metadata": {
  "kernelspec": {
   "display_name": "tf",
   "language": "python",
   "name": "python3"
  },
  "language_info": {
   "codemirror_mode": {
    "name": "ipython",
    "version": 3
   },
   "file_extension": ".py",
   "mimetype": "text/x-python",
   "name": "python",
   "nbconvert_exporter": "python",
   "pygments_lexer": "ipython3",
   "version": "3.11.9"
  },
  "orig_nbformat": 4
 },
 "nbformat": 4,
 "nbformat_minor": 2
}
