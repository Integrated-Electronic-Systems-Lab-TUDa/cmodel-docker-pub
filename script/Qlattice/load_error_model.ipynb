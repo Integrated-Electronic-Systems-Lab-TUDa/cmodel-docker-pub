{
 "cells": [
  {
   "cell_type": "code",
   "execution_count": 19,
   "metadata": {},
   "outputs": [],
   "source": [
    "import pandas as pd\n",
    "import feyn\n",
    "import numpy as np\n",
    "import sklearn.metrics as skm \n",
    "from sklearn.model_selection import train_test_split\n",
    "import visualize_results\n",
    "import utility_func"
   ]
  },
  {
   "cell_type": "code",
   "execution_count": 20,
   "metadata": {},
   "outputs": [
    {
     "data": {
      "text/html": [
       "<?xml version=\"1.0\" encoding=\"utf-8\" ?>\n",
       "<svg baseProfile=\"full\" height=\"400.0\" preserveAspectRatio=\"none\" version=\"1.1\" viewBox=\"0 0 1191 400.0\" width=\"1191\" xmlns=\"http://www.w3.org/2000/svg\" xmlns:ev=\"http://www.w3.org/2001/xml-events\" xmlns:xlink=\"http://www.w3.org/1999/xlink\"><defs /><svg class=\"graph\" height=\"395.0\" width=\"1191\" x=\"0\" y=\"0\"><defs /><rect class=\"node\" fill=\"#00F082\" height=\"35\" stroke=\"#1E1E1E\" stroke-width=\"1\" width=\"90\" x=\"1081\" y=\"170.0\"><title>E\n",
       "linear:\n",
       "scale=0.248846\n",
       "scale offset=0.000000\n",
       "w=2.744425\n",
       "bias=-0.0045</title></rect><text fill=\"#1E1E1E\" font-family=\"monospace\" font-size=\"12\" style=\"pointer-events:none\" text-anchor=\"middle\" x=\"1126.0\" y=\"191.5\">E</text><text fill=\"#1E1E1E\" font-family=\"monospace\" font-size=\"10\" style=\"pointer-events:none\" text-anchor=\"end\" x=\"1169\" y=\"179.0\">0</text><text fill=\"#1E1E1E\" font-family=\"monospace\" font-size=\"10\" style=\"pointer-events:none\" text-anchor=\"start\" x=\"1083\" y=\"179.0\">out</text><line stroke=\"#1E1E1E\" x1=\"1051\" x2=\"1081\" y1=\"187.5\" y2=\"187.5\" /><rect class=\"node\" fill=\"#FAFAFA\" height=\"35\" stroke=\"#FF1EC8\" stroke-width=\"1\" width=\"90\" x=\"961\" y=\"170.0\"><title>multiply</title></rect><text fill=\"#1E1E1E\" font-family=\"monospace\" font-size=\"12\" style=\"pointer-events:none\" text-anchor=\"middle\" x=\"1006.0\" y=\"191.5\">multiply</text><text fill=\"#1E1E1E\" font-family=\"monospace\" font-size=\"10\" style=\"pointer-events:none\" text-anchor=\"end\" x=\"1049\" y=\"179.0\">1</text><line stroke=\"#1E1E1E\" x1=\"931\" x2=\"961\" y1=\"157.5\" y2=\"178.5\" /><line stroke=\"#1E1E1E\" x1=\"931\" x2=\"961\" y1=\"217.5\" y2=\"196.5\" /><rect class=\"node\" fill=\"#FAFAFA\" height=\"35\" stroke=\"#FF1EC8\" stroke-width=\"1\" width=\"90\" x=\"841\" y=\"140.0\"><title>multiply</title></rect><text fill=\"#1E1E1E\" font-family=\"monospace\" font-size=\"12\" style=\"pointer-events:none\" text-anchor=\"middle\" x=\"886.0\" y=\"161.5\">multiply</text><text fill=\"#1E1E1E\" font-family=\"monospace\" font-size=\"10\" style=\"pointer-events:none\" text-anchor=\"end\" x=\"929\" y=\"149.0\">2</text><line stroke=\"#1E1E1E\" x1=\"811\" x2=\"841\" y1=\"157.5\" y2=\"148.5\" /><line stroke=\"#1E1E1E\" x1=\"811\" x2=\"841\" y1=\"217.5\" y2=\"166.5\" /><rect class=\"node\" fill=\"#FAFAFA\" height=\"35\" stroke=\"#FF1EC8\" stroke-width=\"1\" width=\"90\" x=\"721\" y=\"140.0\"><title>gaussian</title></rect><text fill=\"#1E1E1E\" font-family=\"monospace\" font-size=\"12\" style=\"pointer-events:none\" text-anchor=\"middle\" x=\"766.0\" y=\"161.5\">gaussian</text><text fill=\"#1E1E1E\" font-family=\"monospace\" font-size=\"10\" style=\"pointer-events:none\" text-anchor=\"end\" x=\"809\" y=\"149.0\">3</text><line stroke=\"#1E1E1E\" x1=\"691\" x2=\"721\" y1=\"127.5\" y2=\"157.5\" /><rect class=\"node\" fill=\"#FAFAFA\" height=\"35\" stroke=\"#FF1EC8\" stroke-width=\"1\" width=\"90\" x=\"601\" y=\"110.0\"><title>inverse</title></rect><text fill=\"#1E1E1E\" font-family=\"monospace\" font-size=\"12\" style=\"pointer-events:none\" text-anchor=\"middle\" x=\"646.0\" y=\"131.5\">inverse</text><text fill=\"#1E1E1E\" font-family=\"monospace\" font-size=\"10\" style=\"pointer-events:none\" text-anchor=\"end\" x=\"689\" y=\"119.0\">4</text><line stroke=\"#1E1E1E\" x1=\"571\" x2=\"601\" y1=\"67.5\" y2=\"127.5\" /><rect class=\"node\" fill=\"#FAFAFA\" height=\"35\" stroke=\"#FF1EC8\" stroke-width=\"1\" width=\"90\" x=\"481\" y=\"50.0\"><title>gaussian</title></rect><text fill=\"#1E1E1E\" font-family=\"monospace\" font-size=\"12\" style=\"pointer-events:none\" text-anchor=\"middle\" x=\"526.0\" y=\"71.5\">gaussian</text><text fill=\"#1E1E1E\" font-family=\"monospace\" font-size=\"10\" style=\"pointer-events:none\" text-anchor=\"end\" x=\"569\" y=\"59.0\">5</text><line stroke=\"#1E1E1E\" x1=\"451\" x2=\"481\" y1=\"97.5\" y2=\"58.5\" /><line stroke=\"#1E1E1E\" x1=\"451\" x2=\"481\" y1=\"157.5\" y2=\"76.5\" /><rect class=\"node\" fill=\"#FAFAFA\" height=\"35\" stroke=\"#FF1EC8\" stroke-width=\"1\" width=\"90\" x=\"361\" y=\"80.0\"><title>add</title></rect><text fill=\"#1E1E1E\" font-family=\"monospace\" font-size=\"12\" style=\"pointer-events:none\" text-anchor=\"middle\" x=\"406.0\" y=\"101.5\">add</text><text fill=\"#1E1E1E\" font-family=\"monospace\" font-size=\"10\" style=\"pointer-events:none\" text-anchor=\"end\" x=\"449\" y=\"89.0\">6</text><line stroke=\"#1E1E1E\" x1=\"331\" x2=\"361\" y1=\"37.5\" y2=\"88.5\" /><line stroke=\"#1E1E1E\" x1=\"331\" x2=\"361\" y1=\"97.5\" y2=\"106.5\" /><rect class=\"node\" fill=\"#FAFAFA\" height=\"35\" stroke=\"#FF1EC8\" stroke-width=\"1\" width=\"90\" x=\"241\" y=\"20.0\"><title>multiply</title></rect><text fill=\"#1E1E1E\" font-family=\"monospace\" font-size=\"12\" style=\"pointer-events:none\" text-anchor=\"middle\" x=\"286.0\" y=\"41.5\">multiply</text><text fill=\"#1E1E1E\" font-family=\"monospace\" font-size=\"10\" style=\"pointer-events:none\" text-anchor=\"end\" x=\"329\" y=\"29.0\">7</text><line stroke=\"#1E1E1E\" x1=\"211\" x2=\"241\" y1=\"97.5\" y2=\"28.5\" /><line stroke=\"#1E1E1E\" x1=\"211\" x2=\"241\" y1=\"157.5\" y2=\"46.5\" /><rect class=\"node\" fill=\"#FAFAFA\" height=\"35\" stroke=\"#FF1EC8\" stroke-width=\"1\" width=\"90\" x=\"121\" y=\"80.0\"><title>add</title></rect><text fill=\"#1E1E1E\" font-family=\"monospace\" font-size=\"12\" style=\"pointer-events:none\" text-anchor=\"middle\" x=\"166.0\" y=\"101.5\">add</text><text fill=\"#1E1E1E\" font-family=\"monospace\" font-size=\"10\" style=\"pointer-events:none\" text-anchor=\"end\" x=\"209\" y=\"89.0\">8</text><line stroke=\"#1E1E1E\" x1=\"91\" x2=\"121\" y1=\"97.5\" y2=\"88.5\" /><line stroke=\"#1E1E1E\" x1=\"91\" x2=\"121\" y1=\"157.5\" y2=\"106.5\" /><rect class=\"node\" fill=\"#00F082\" height=\"35\" stroke=\"#1E1E1E\" stroke-width=\"1\" width=\"90\" x=\"1\" y=\"80.0\"><title>v2\n",
       "linear:\n",
       "scale=0.625000\n",
       "scale offset=-0.193095\n",
       "w=-0.021247\n",
       "bias=-0.4196</title></rect><text fill=\"#1E1E1E\" font-family=\"monospace\" font-size=\"12\" style=\"pointer-events:none\" text-anchor=\"middle\" x=\"46.0\" y=\"101.5\">v2</text><text fill=\"#1E1E1E\" font-family=\"monospace\" font-size=\"10\" style=\"pointer-events:none\" text-anchor=\"end\" x=\"89\" y=\"89.0\">9</text><text fill=\"#1E1E1E\" font-family=\"monospace\" font-size=\"10\" style=\"pointer-events:none\" text-anchor=\"start\" x=\"3\" y=\"89.0\">num</text><rect class=\"node\" fill=\"#00F082\" height=\"35\" stroke=\"#1E1E1E\" stroke-width=\"1\" width=\"90\" x=\"1\" y=\"140.0\"><title>v4\n",
       "linear:\n",
       "scale=0.625313\n",
       "scale offset=-0.193729\n",
       "w=0.153905\n",
       "bias=1.2933</title></rect><text fill=\"#1E1E1E\" font-family=\"monospace\" font-size=\"12\" style=\"pointer-events:none\" text-anchor=\"middle\" x=\"46.0\" y=\"161.5\">v4</text><text fill=\"#1E1E1E\" font-family=\"monospace\" font-size=\"10\" style=\"pointer-events:none\" text-anchor=\"end\" x=\"89\" y=\"149.0\">10</text><text fill=\"#1E1E1E\" font-family=\"monospace\" font-size=\"10\" style=\"pointer-events:none\" text-anchor=\"start\" x=\"3\" y=\"149.0\">num</text><rect class=\"node\" fill=\"#FAFAFA\" height=\"35\" stroke=\"#FF1EC8\" stroke-width=\"1\" width=\"90\" x=\"121\" y=\"140.0\"><title>multiply</title></rect><text fill=\"#1E1E1E\" font-family=\"monospace\" font-size=\"12\" style=\"pointer-events:none\" text-anchor=\"middle\" x=\"166.0\" y=\"161.5\">multiply</text><text fill=\"#1E1E1E\" font-family=\"monospace\" font-size=\"10\" style=\"pointer-events:none\" text-anchor=\"end\" x=\"209\" y=\"149.0\">11</text><line stroke=\"#1E1E1E\" x1=\"91\" x2=\"121\" y1=\"217.5\" y2=\"148.5\" /><line stroke=\"#1E1E1E\" x1=\"91\" x2=\"121\" y1=\"277.5\" y2=\"166.5\" /><rect class=\"node\" fill=\"#00F082\" height=\"35\" stroke=\"#1E1E1E\" stroke-width=\"1\" width=\"90\" x=\"1\" y=\"200.0\"><title>v3\n",
       "linear:\n",
       "scale=0.625000\n",
       "scale offset=-0.070144\n",
       "w=0.357698\n",
       "bias=1.0146</title></rect><text fill=\"#1E1E1E\" font-family=\"monospace\" font-size=\"12\" style=\"pointer-events:none\" text-anchor=\"middle\" x=\"46.0\" y=\"221.5\">v3</text><text fill=\"#1E1E1E\" font-family=\"monospace\" font-size=\"10\" style=\"pointer-events:none\" text-anchor=\"end\" x=\"89\" y=\"209.0\">12</text><text fill=\"#1E1E1E\" font-family=\"monospace\" font-size=\"10\" style=\"pointer-events:none\" text-anchor=\"start\" x=\"3\" y=\"209.0\">num</text><rect class=\"node\" fill=\"#00F082\" height=\"35\" stroke=\"#1E1E1E\" stroke-width=\"1\" width=\"90\" x=\"1\" y=\"260.0\"><title>v2\n",
       "linear:\n",
       "scale=0.625000\n",
       "scale offset=-0.193095\n",
       "w=-1.002706\n",
       "bias=0.1267</title></rect><text fill=\"#1E1E1E\" font-family=\"monospace\" font-size=\"12\" style=\"pointer-events:none\" text-anchor=\"middle\" x=\"46.0\" y=\"281.5\">v2</text><text fill=\"#1E1E1E\" font-family=\"monospace\" font-size=\"10\" style=\"pointer-events:none\" text-anchor=\"end\" x=\"89\" y=\"269.0\">13</text><text fill=\"#1E1E1E\" font-family=\"monospace\" font-size=\"10\" style=\"pointer-events:none\" text-anchor=\"start\" x=\"3\" y=\"269.0\">num</text><rect class=\"node\" fill=\"#00F082\" height=\"35\" stroke=\"#1E1E1E\" stroke-width=\"1\" width=\"90\" x=\"241\" y=\"80.0\"><title>v2\n",
       "linear:\n",
       "scale=0.625000\n",
       "scale offset=-0.193095\n",
       "w=0.865031\n",
       "bias=0.4024</title></rect><text fill=\"#1E1E1E\" font-family=\"monospace\" font-size=\"12\" style=\"pointer-events:none\" text-anchor=\"middle\" x=\"286.0\" y=\"101.5\">v2</text><text fill=\"#1E1E1E\" font-family=\"monospace\" font-size=\"10\" style=\"pointer-events:none\" text-anchor=\"end\" x=\"329\" y=\"89.0\">14</text><text fill=\"#1E1E1E\" font-family=\"monospace\" font-size=\"10\" style=\"pointer-events:none\" text-anchor=\"start\" x=\"243\" y=\"89.0\">num</text><rect class=\"node\" fill=\"#FAFAFA\" height=\"35\" stroke=\"#FF1EC8\" stroke-width=\"1\" width=\"90\" x=\"361\" y=\"140.0\"><title>gaussian</title></rect><text fill=\"#1E1E1E\" font-family=\"monospace\" font-size=\"12\" style=\"pointer-events:none\" text-anchor=\"middle\" x=\"406.0\" y=\"161.5\">gaussian</text><text fill=\"#1E1E1E\" font-family=\"monospace\" font-size=\"10\" style=\"pointer-events:none\" text-anchor=\"end\" x=\"449\" y=\"149.0\">15</text><line stroke=\"#1E1E1E\" x1=\"331\" x2=\"361\" y1=\"157.5\" y2=\"148.5\" /><line stroke=\"#1E1E1E\" x1=\"331\" x2=\"361\" y1=\"217.5\" y2=\"166.5\" /><rect class=\"node\" fill=\"#00F082\" height=\"35\" stroke=\"#1E1E1E\" stroke-width=\"1\" width=\"90\" x=\"241\" y=\"140.0\"><title>v1\n",
       "linear:\n",
       "scale=0.625000\n",
       "scale offset=-0.155298\n",
       "w=-0.248332\n",
       "bias=0.4538</title></rect><text fill=\"#1E1E1E\" font-family=\"monospace\" font-size=\"12\" style=\"pointer-events:none\" text-anchor=\"middle\" x=\"286.0\" y=\"161.5\">v1</text><text fill=\"#1E1E1E\" font-family=\"monospace\" font-size=\"10\" style=\"pointer-events:none\" text-anchor=\"end\" x=\"329\" y=\"149.0\">16</text><text fill=\"#1E1E1E\" font-family=\"monospace\" font-size=\"10\" style=\"pointer-events:none\" text-anchor=\"start\" x=\"243\" y=\"149.0\">num</text><rect class=\"node\" fill=\"#00F082\" height=\"35\" stroke=\"#1E1E1E\" stroke-width=\"1\" width=\"90\" x=\"241\" y=\"200.0\"><title>v3\n",
       "linear:\n",
       "scale=0.625000\n",
       "scale offset=-0.070144\n",
       "w=1.270799\n",
       "bias=-0.2268</title></rect><text fill=\"#1E1E1E\" font-family=\"monospace\" font-size=\"12\" style=\"pointer-events:none\" text-anchor=\"middle\" x=\"286.0\" y=\"221.5\">v3</text><text fill=\"#1E1E1E\" font-family=\"monospace\" font-size=\"10\" style=\"pointer-events:none\" text-anchor=\"end\" x=\"329\" y=\"209.0\">17</text><text fill=\"#1E1E1E\" font-family=\"monospace\" font-size=\"10\" style=\"pointer-events:none\" text-anchor=\"start\" x=\"243\" y=\"209.0\">num</text><rect class=\"node\" fill=\"#FAFAFA\" height=\"35\" stroke=\"#FF1EC8\" stroke-width=\"1\" width=\"90\" x=\"721\" y=\"200.0\"><title>add</title></rect><text fill=\"#1E1E1E\" font-family=\"monospace\" font-size=\"12\" style=\"pointer-events:none\" text-anchor=\"middle\" x=\"766.0\" y=\"221.5\">add</text><text fill=\"#1E1E1E\" font-family=\"monospace\" font-size=\"10\" style=\"pointer-events:none\" text-anchor=\"end\" x=\"809\" y=\"209.0\">18</text><line stroke=\"#1E1E1E\" x1=\"691\" x2=\"721\" y1=\"187.5\" y2=\"208.5\" /><line stroke=\"#1E1E1E\" x1=\"691\" x2=\"721\" y1=\"247.5\" y2=\"226.5\" /><rect class=\"node\" fill=\"#FAFAFA\" height=\"35\" stroke=\"#FF1EC8\" stroke-width=\"1\" width=\"90\" x=\"601\" y=\"170.0\"><title>multiply</title></rect><text fill=\"#1E1E1E\" font-family=\"monospace\" font-size=\"12\" style=\"pointer-events:none\" text-anchor=\"middle\" x=\"646.0\" y=\"191.5\">multiply</text><text fill=\"#1E1E1E\" font-family=\"monospace\" font-size=\"10\" style=\"pointer-events:none\" text-anchor=\"end\" x=\"689\" y=\"179.0\">19</text><line stroke=\"#1E1E1E\" x1=\"571\" x2=\"601\" y1=\"127.5\" y2=\"178.5\" /><line stroke=\"#1E1E1E\" x1=\"571\" x2=\"601\" y1=\"187.5\" y2=\"196.5\" /><rect class=\"node\" fill=\"#00F082\" height=\"35\" stroke=\"#1E1E1E\" stroke-width=\"1\" width=\"90\" x=\"481\" y=\"110.0\"><title>v2\n",
       "linear:\n",
       "scale=0.625000\n",
       "scale offset=-0.193095\n",
       "w=0.316432\n",
       "bias=1.7853</title></rect><text fill=\"#1E1E1E\" font-family=\"monospace\" font-size=\"12\" style=\"pointer-events:none\" text-anchor=\"middle\" x=\"526.0\" y=\"131.5\">v2</text><text fill=\"#1E1E1E\" font-family=\"monospace\" font-size=\"10\" style=\"pointer-events:none\" text-anchor=\"end\" x=\"569\" y=\"119.0\">20</text><text fill=\"#1E1E1E\" font-family=\"monospace\" font-size=\"10\" style=\"pointer-events:none\" text-anchor=\"start\" x=\"483\" y=\"119.0\">num</text><rect class=\"node\" fill=\"#00F082\" height=\"35\" stroke=\"#1E1E1E\" stroke-width=\"1\" width=\"90\" x=\"481\" y=\"170.0\"><title>v1\n",
       "linear:\n",
       "scale=0.625000\n",
       "scale offset=-0.155298\n",
       "w=0.607114\n",
       "bias=0.5744</title></rect><text fill=\"#1E1E1E\" font-family=\"monospace\" font-size=\"12\" style=\"pointer-events:none\" text-anchor=\"middle\" x=\"526.0\" y=\"191.5\">v1</text><text fill=\"#1E1E1E\" font-family=\"monospace\" font-size=\"10\" style=\"pointer-events:none\" text-anchor=\"end\" x=\"569\" y=\"179.0\">21</text><text fill=\"#1E1E1E\" font-family=\"monospace\" font-size=\"10\" style=\"pointer-events:none\" text-anchor=\"start\" x=\"483\" y=\"179.0\">num</text><rect class=\"node\" fill=\"#FAFAFA\" height=\"35\" stroke=\"#FF1EC8\" stroke-width=\"1\" width=\"90\" x=\"601\" y=\"230.0\"><title>add</title></rect><text fill=\"#1E1E1E\" font-family=\"monospace\" font-size=\"12\" style=\"pointer-events:none\" text-anchor=\"middle\" x=\"646.0\" y=\"251.5\">add</text><text fill=\"#1E1E1E\" font-family=\"monospace\" font-size=\"10\" style=\"pointer-events:none\" text-anchor=\"end\" x=\"689\" y=\"239.0\">22</text><line stroke=\"#1E1E1E\" x1=\"571\" x2=\"601\" y1=\"247.5\" y2=\"238.5\" /><line stroke=\"#1E1E1E\" x1=\"571\" x2=\"601\" y1=\"307.5\" y2=\"256.5\" /><rect class=\"node\" fill=\"#00F082\" height=\"35\" stroke=\"#1E1E1E\" stroke-width=\"1\" width=\"90\" x=\"481\" y=\"230.0\"><title>v4\n",
       "linear:\n",
       "scale=0.625313\n",
       "scale offset=-0.193729\n",
       "w=0.547532\n",
       "bias=-1.2515</title></rect><text fill=\"#1E1E1E\" font-family=\"monospace\" font-size=\"12\" style=\"pointer-events:none\" text-anchor=\"middle\" x=\"526.0\" y=\"251.5\">v4</text><text fill=\"#1E1E1E\" font-family=\"monospace\" font-size=\"10\" style=\"pointer-events:none\" text-anchor=\"end\" x=\"569\" y=\"239.0\">23</text><text fill=\"#1E1E1E\" font-family=\"monospace\" font-size=\"10\" style=\"pointer-events:none\" text-anchor=\"start\" x=\"483\" y=\"239.0\">num</text><rect class=\"node\" fill=\"#FAFAFA\" height=\"35\" stroke=\"#FF1EC8\" stroke-width=\"1\" width=\"90\" x=\"481\" y=\"290.0\"><title>gaussian</title></rect><text fill=\"#1E1E1E\" font-family=\"monospace\" font-size=\"12\" style=\"pointer-events:none\" text-anchor=\"middle\" x=\"526.0\" y=\"311.5\">gaussian</text><text fill=\"#1E1E1E\" font-family=\"monospace\" font-size=\"10\" style=\"pointer-events:none\" text-anchor=\"end\" x=\"569\" y=\"299.0\">24</text><line stroke=\"#1E1E1E\" x1=\"451\" x2=\"481\" y1=\"217.5\" y2=\"298.5\" /><line stroke=\"#1E1E1E\" x1=\"451\" x2=\"481\" y1=\"277.5\" y2=\"316.5\" /><rect class=\"node\" fill=\"#FAFAFA\" height=\"35\" stroke=\"#FF1EC8\" stroke-width=\"1\" width=\"90\" x=\"361\" y=\"200.0\"><title>multiply</title></rect><text fill=\"#1E1E1E\" font-family=\"monospace\" font-size=\"12\" style=\"pointer-events:none\" text-anchor=\"middle\" x=\"406.0\" y=\"221.5\">multiply</text><text fill=\"#1E1E1E\" font-family=\"monospace\" font-size=\"10\" style=\"pointer-events:none\" text-anchor=\"end\" x=\"449\" y=\"209.0\">25</text><line stroke=\"#1E1E1E\" x1=\"331\" x2=\"361\" y1=\"277.5\" y2=\"208.5\" /><line stroke=\"#1E1E1E\" x1=\"331\" x2=\"361\" y1=\"337.5\" y2=\"226.5\" /><rect class=\"node\" fill=\"#FAFAFA\" height=\"35\" stroke=\"#FF1EC8\" stroke-width=\"1\" width=\"90\" x=\"241\" y=\"260.0\"><title>add</title></rect><text fill=\"#1E1E1E\" font-family=\"monospace\" font-size=\"12\" style=\"pointer-events:none\" text-anchor=\"middle\" x=\"286.0\" y=\"281.5\">add</text><text fill=\"#1E1E1E\" font-family=\"monospace\" font-size=\"10\" style=\"pointer-events:none\" text-anchor=\"end\" x=\"329\" y=\"269.0\">26</text><line stroke=\"#1E1E1E\" x1=\"211\" x2=\"241\" y1=\"217.5\" y2=\"268.5\" /><line stroke=\"#1E1E1E\" x1=\"211\" x2=\"241\" y1=\"277.5\" y2=\"286.5\" /><rect class=\"node\" fill=\"#00F082\" height=\"35\" stroke=\"#1E1E1E\" stroke-width=\"1\" width=\"90\" x=\"121\" y=\"200.0\"><title>v4\n",
       "linear:\n",
       "scale=0.625313\n",
       "scale offset=-0.193729\n",
       "w=0.780784\n",
       "bias=-1.3335</title></rect><text fill=\"#1E1E1E\" font-family=\"monospace\" font-size=\"12\" style=\"pointer-events:none\" text-anchor=\"middle\" x=\"166.0\" y=\"221.5\">v4</text><text fill=\"#1E1E1E\" font-family=\"monospace\" font-size=\"10\" style=\"pointer-events:none\" text-anchor=\"end\" x=\"209\" y=\"209.0\">27</text><text fill=\"#1E1E1E\" font-family=\"monospace\" font-size=\"10\" style=\"pointer-events:none\" text-anchor=\"start\" x=\"123\" y=\"209.0\">num</text><rect class=\"node\" fill=\"#00F082\" height=\"35\" stroke=\"#1E1E1E\" stroke-width=\"1\" width=\"90\" x=\"121\" y=\"260.0\"><title>v1\n",
       "linear:\n",
       "scale=0.625000\n",
       "scale offset=-0.155298\n",
       "w=-1.971688\n",
       "bias=-0.4365</title></rect><text fill=\"#1E1E1E\" font-family=\"monospace\" font-size=\"12\" style=\"pointer-events:none\" text-anchor=\"middle\" x=\"166.0\" y=\"281.5\">v1</text><text fill=\"#1E1E1E\" font-family=\"monospace\" font-size=\"10\" style=\"pointer-events:none\" text-anchor=\"end\" x=\"209\" y=\"269.0\">28</text><text fill=\"#1E1E1E\" font-family=\"monospace\" font-size=\"10\" style=\"pointer-events:none\" text-anchor=\"start\" x=\"123\" y=\"269.0\">num</text><rect class=\"node\" fill=\"#00F082\" height=\"35\" stroke=\"#1E1E1E\" stroke-width=\"1\" width=\"90\" x=\"241\" y=\"320.0\"><title>v1\n",
       "linear:\n",
       "scale=0.625000\n",
       "scale offset=-0.155298\n",
       "w=-0.208369\n",
       "bias=-1.1507</title></rect><text fill=\"#1E1E1E\" font-family=\"monospace\" font-size=\"12\" style=\"pointer-events:none\" text-anchor=\"middle\" x=\"286.0\" y=\"341.5\">v1</text><text fill=\"#1E1E1E\" font-family=\"monospace\" font-size=\"10\" style=\"pointer-events:none\" text-anchor=\"end\" x=\"329\" y=\"329.0\">29</text><text fill=\"#1E1E1E\" font-family=\"monospace\" font-size=\"10\" style=\"pointer-events:none\" text-anchor=\"start\" x=\"243\" y=\"329.0\">num</text><rect class=\"node\" fill=\"#00F082\" height=\"35\" stroke=\"#1E1E1E\" stroke-width=\"1\" width=\"90\" x=\"361\" y=\"260.0\"><title>v2\n",
       "linear:\n",
       "scale=0.625000\n",
       "scale offset=-0.193095\n",
       "w=-0.345505\n",
       "bias=0.3982</title></rect><text fill=\"#1E1E1E\" font-family=\"monospace\" font-size=\"12\" style=\"pointer-events:none\" text-anchor=\"middle\" x=\"406.0\" y=\"281.5\">v2</text><text fill=\"#1E1E1E\" font-family=\"monospace\" font-size=\"10\" style=\"pointer-events:none\" text-anchor=\"end\" x=\"449\" y=\"269.0\">30</text><text fill=\"#1E1E1E\" font-family=\"monospace\" font-size=\"10\" style=\"pointer-events:none\" text-anchor=\"start\" x=\"363\" y=\"269.0\">num</text><rect class=\"node\" fill=\"#00F082\" height=\"35\" stroke=\"#1E1E1E\" stroke-width=\"1\" width=\"90\" x=\"841\" y=\"200.0\"><title>v1\n",
       "linear:\n",
       "scale=0.625000\n",
       "scale offset=-0.155298\n",
       "w=0.675187\n",
       "bias=-1.5968</title></rect><text fill=\"#1E1E1E\" font-family=\"monospace\" font-size=\"12\" style=\"pointer-events:none\" text-anchor=\"middle\" x=\"886.0\" y=\"221.5\">v1</text><text fill=\"#1E1E1E\" font-family=\"monospace\" font-size=\"10\" style=\"pointer-events:none\" text-anchor=\"end\" x=\"929\" y=\"209.0\">31</text><text fill=\"#1E1E1E\" font-family=\"monospace\" font-size=\"10\" style=\"pointer-events:none\" text-anchor=\"start\" x=\"843\" y=\"209.0\">num</text></svg></svg>"
      ],
      "text/plain": [
       "<IPython.core.display.HTML object>"
      ]
     },
     "metadata": {},
     "output_type": "display_data"
    }
   ],
   "source": [
    "display_name = 'er_gen2_for_015_04_n04'\n",
    "current_id_model = feyn.Model.load('./Qlattice/models/mult_id_runs_015.json')\n",
    "current_er_model = feyn.Model.load('./Qlattice/models/mult_er_runs_04.json')\n",
    "#second_er_model = feyn.Model.load('./Qlattice/models/er_gen2_for_015_04_n04.json')\n",
    "second_er_model = None\n",
    "scale = False\n",
    "\n",
    "\n",
    "\n",
    "current_er_model.show(update_display=True)\n"
   ]
  },
  {
   "cell_type": "code",
   "execution_count": 21,
   "metadata": {},
   "outputs": [
    {
     "data": {
      "text/latex": [
       "$\\displaystyle 0.68 \\cdot \\left(0.42 v_{1} - 1.5\\right) \\left(0.34 v_{4} + \\left(0.38 v_{1} + 0.63\\right) \\left(0.2 v_{2} + 1.8\\right) + e^{- 0.25 \\left(1 - 0.61 v_{2}\\right)^{2} - 9.6 \\left(- 0.11 v_{1} - 1\\right)^{2} \\left(- 0.66 v_{1} + 0.26 v_{4} - 1\\right)^{2}} - 1.2\\right) e^{- 2.0 e^{4.0 \\left(0.54 v_{2} + \\left(0.0057 - 0.63 v_{2}\\right) \\left(0.22 v_{3} + 1.0\\right) \\left(- 0.013 v_{2} + 0.096 v_{4} + 0.89\\right) + 0.51\\right)^{2} + 4.0 e^{- 0.74 \\left(1 - 0.36 v_{1}\\right)^{2} - 2.5 \\left(v_{3} - 0.22\\right)^{2}}}} - 0.0011$"
      ],
      "text/plain": [
       "0.68*(0.42*v1 - 1.5)*(0.34*v4 + (0.38*v1 + 0.63)*(0.2*v2 + 1.8) + exp(-0.25*(1 - 0.61*v2)**2 - 9.6*(-0.11*v1 - 1)**2*(-0.66*v1 + 0.26*v4 - 1)**2) - 1.2)*exp(-2.0*exp(4.0*(0.54*v2 + (0.0057 - 0.63*v2)*(0.22*v3 + 1.0)*(-0.013*v2 + 0.096*v4 + 0.89) + 0.51)**2 + 4.0*exp(-0.74*(1 - 0.36*v1)**2 - 2.5*(v3 - 0.22)**2))) - 0.0011"
      ]
     },
     "execution_count": 21,
     "metadata": {},
     "output_type": "execute_result"
    }
   ],
   "source": [
    "current_er_model.sympify(signif= 2,include_weights=True)"
   ]
  },
  {
   "attachments": {},
   "cell_type": "markdown",
   "metadata": {},
   "source": [
    "Evaluating"
   ]
  },
  {
   "cell_type": "code",
   "execution_count": 22,
   "metadata": {},
   "outputs": [
    {
     "name": "stdout",
     "output_type": "stream",
     "text": [
      "R2 current model:0.9947086435774393\n",
      "--- Statistics for er_gen2_for_015_04_n04---\n",
      "er_gen2_for_015_04_n04 own clac MAE: 0.004763069840876742\n",
      "er_gen2_for_015_04_n04 own calc R2 score:0.9978129432008755\n",
      "er_gen2_for_015_04_n04 own calc MAPE:107457751750.29036\n",
      "er_gen2_for_015_04_n04 own clac Median AE : 0.0010952588188239097\n",
      "er_gen2_for_015_04_n04 own clac Max E : 0.14237852806310455\n",
      "er_gen2_for_015_04_n04 , closer Look on the bad/critical predictions:\n",
      "Number of bad values : 0\n",
      "Statistics for AE worse than : 0.05\n",
      "       y_ture_val  y_pred_val            PE          AE\n",
      "count  332.000000  332.000000  3.320000e+02  332.000000\n",
      "mean     0.199657    0.195031  2.008258e+07    0.066542\n",
      "std      0.359291    0.380954  3.461127e+07    0.017225\n",
      "min     -0.314290   -0.367532  3.486776e-02    0.050001\n",
      "50%      0.035483    0.008570  3.936860e-01    0.061700\n",
      "max      1.479506    1.426165  1.196180e+08    0.142379\n",
      "        y_ture_val  y_pred_val        PE        AE\n",
      "157672   -0.290469   -0.148091  0.490167  0.142379\n",
      "156964   -0.289626   -0.148236  0.488180  0.141390\n",
      "157671   -0.283754   -0.147170  0.481345  0.136584\n",
      "156840   -0.272483   -0.147088  0.460194  0.125395\n",
      "157670   -0.268101   -0.144274  0.461868  0.123827\n"
     ]
    },
    {
     "name": "stderr",
     "output_type": "stream",
     "text": [
      "/home/fglt/Documents/second_repo/021_symbolic_reg/utility_func.py:60: SettingWithCopyWarning: \n",
      "A value is trying to be set on a copy of a slice from a DataFrame\n",
      "\n",
      "See the caveats in the documentation: https://pandas.pydata.org/pandas-docs/stable/user_guide/indexing.html#returning-a-view-versus-a-copy\n",
      "  df_really_bad.sort_values(by='AE',inplace = True,ascending = False)\n"
     ]
    }
   ],
   "source": [
    "all_data = pd.read_table(\"./data/id.tbl\")\n",
    "all_data.columns =[\"v1\",\"v2\",\"v3\",\"v4\",\"id\"]\n",
    "all_data[\"id\"] = all_data[\"id\"].apply(lambda x: x*1E03)\n",
    "y_true = all_data['id'].to_numpy().reshape(-1,1)\n",
    "\n",
    "\n",
    "\n",
    "y_pred_id = current_id_model.predict(all_data[['v1','v2','v3','v4']])\n",
    "if scale == True:\n",
    "    y_pred_id = y_pred_id * 1E03\n",
    "\n",
    "y_pred_bo = y_pred_id + current_er_model.predict(all_data[['v1','v2','v3','v4']])\n",
    "\n",
    "\n",
    "\n",
    "if second_er_model is not None:\n",
    "    print('R2 current model:'+str(skm.r2_score(y_true,y_pred_bo)))\n",
    "    y_pred_bo = y_pred_bo+ second_er_model.predict(all_data[['v1','v2','v3','v4']])\n",
    "else: \n",
    "    print('R2 current model:'+str(skm.r2_score(y_true,y_pred_id)))\n",
    "    \n",
    "y_pred_bo = y_pred_bo.reshape(-1,1)\n",
    "\n",
    "\n",
    "utility_func.print_all_metrics(y_true=y_true,y_pred=y_pred_bo,algo_name=display_name,error_trsh=0.05)"
   ]
  }
 ],
 "metadata": {
  "kernelspec": {
   "display_name": "MasterEnv_NN",
   "language": "python",
   "name": "python3"
  },
  "language_info": {
   "codemirror_mode": {
    "name": "ipython",
    "version": 3
   },
   "file_extension": ".py",
   "mimetype": "text/x-python",
   "name": "python",
   "nbconvert_exporter": "python",
   "pygments_lexer": "ipython3",
   "version": "3.8.15"
  },
  "orig_nbformat": 4,
  "vscode": {
   "interpreter": {
    "hash": "66894a96f911f3355fc4c501fe1c821937b62ddbc98cf4220f5ae21d2e7f4e74"
   }
  }
 },
 "nbformat": 4,
 "nbformat_minor": 2
}
