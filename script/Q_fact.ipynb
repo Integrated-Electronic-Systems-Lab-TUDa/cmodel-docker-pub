{
 "cells": [
  {
   "cell_type": "code",
   "execution_count": null,
   "metadata": {},
   "outputs": [],
   "source": [
    "# %load_ext tensorboard\n",
    "\n",
    "import sys\n",
    "import os\n",
    "\n",
    "import config\n",
    "\n",
    "import Run_qlattice\n",
    "\n",
    "import re\n",
    "import hashlib\n",
    "import matplotlib.pyplot as plt\n",
    "import pandas as pd\n",
    "import numpy as np\n",
    "import NN_run\n",
    "import prepare_data as data_source\n",
    "import mongodb_driver\n",
    "import requests\n",
    "import feyn\n",
    "import pickle\n",
    "import NN_utility as NN_u\n",
    "\n",
    "import utility_func as uf\n",
    "import sklearn.metrics as skm \n",
    "from matplotlib import pyplot as plt\n",
    "import numpy.ma as ma\n",
    "from sklearn.model_selection import train_test_split\n",
    "\n",
    "import rfet_model as rmdl\n",
    "\n",
    "import matplotlib.patches as patches\n",
    "\n",
    "\n",
    "str_run         = \"run_regular_grid_common_goal\"\n",
    "str_electrode   = \"lat2\"\n",
    "\n",
    "min_step = 0.02\n",
    "# min_steps = [ 0.05,0.02,0.01,0.001,0.0001,0.00001,0.0]\n",
    "# min_steps = [ 0.02]"
   ]
  },
  {
   "cell_type": "code",
   "execution_count": null,
   "metadata": {},
   "outputs": [],
   "source": [
    "# mdb = mongodb_driver.mdb_connect(\"mdb_cmodel\", \"felixl\", \"mdbpass\")\n",
    "mdb = mongodb_driver.mdb_connect(\"mdb_cmodel\", \"root\", \"t(jWbtU4DRnuXqdhK\")\n",
    "\n",
    "mdb_col = mdb[\"NN\"]\n"
   ]
  },
  {
   "cell_type": "markdown",
   "metadata": {},
   "source": [
    "# Q Model (symbolic regression)"
   ]
  },
  {
   "cell_type": "code",
   "execution_count": null,
   "metadata": {},
   "outputs": [],
   "source": [
    "pars = {\n",
    "    \"data_type\"                         : 'DC',\n",
    "    \"data_path\"                         : f\"{config.dir_data}/{str_run}_{str_electrode}_minstep{min_step}_export.pkl\",\n",
    "    \"save_path\"                         : f\"Qlattice/models/mx\",\n",
    "\n",
    "    \"mdl_type\"                          : 'Q',\n",
    "    \"mdl_arch\"                          : 'SR',\n",
    "    \"augmentation_type\"                 : None,\n",
    "\n",
    "    \"sr_num_epochs\"                     : 2,\n",
    "    \"sr_max_complexity\"                 : 50,\n",
    "    \"sr_train_size\"                     : 0.765,\n",
    "    \"sr_transfer\"                       : None,\n",
    "    # \"sr_transfer\"                       : \"Thung\",\n",
    "\n",
    "    \n",
    "    \"user\"                              : os.getlogin(),\n",
    "    \"comment\"                           : \"minimal example test\"\n",
    "}\n",
    "\n"
   ]
  },
  {
   "cell_type": "code",
   "execution_count": null,
   "metadata": {},
   "outputs": [],
   "source": [
    "_id_q = mdb_col.insert_one(pars)\n",
    "_id_q = str(_id_q.inserted_id)\n",
    "print(_id_q)\n",
    "\n",
    "Q_list = [\"Qbg\", \"Qfg\", \"Qtg\", \"Qlat2\", \"Qlat1\"]\n",
    "\n",
    "data = data_source.load_dc_ramp_data(pars['data_path'], Xlabels =[\"Vlat21\", \"Vfglat1\", \"Vtglat1\", \"Vbglat1\"], Ylabel=Q_list)\n",
    "\n",
    "# select BG = lat1 = 0V\n",
    "data = data[data[\"Vbglat1\"] == 0]\n",
    "\n",
    "Xlabels =   [\"Vlat21\", \"Vfglat1\", \"Vtglat1\"]\n",
    "\n",
    "res = {}\n",
    "\n",
    "for Q in Q_list:\n",
    "    \n",
    "    Ylabel  =   [Q]\n",
    "    (train, test, best_model, mae_test_real, mse_test_real, r2_test_real ) = Run_qlattice.mx_run_ql(random_seed=0,\n",
    "                                num_epochs= pars[\"sr_num_epochs\"],\n",
    "                                bound_ilat_to= None,\n",
    "                                sigma_gaus_aug= pars[\"augmentation_type\"],\n",
    "                                max_complexity= pars[\"sr_max_complexity\"],\n",
    "                                train_size = pars[\"sr_train_size\"],\n",
    "                                transfer=pars[\"sr_transfer\"],\n",
    "                                save_path=pars[\"save_path\"],\n",
    "                                # starting_model=[feyn.Model.load('./Qlattice/models/Set2_transfer1.json')],\n",
    "                                starting_model=None,\n",
    "                                scale = True,\n",
    "                                data = data,\n",
    "                                Xlabels = Xlabels,\n",
    "                                Ylabel = Ylabel,\n",
    "                                sorting_crit='bic',\n",
    "                                id = _id_q + \"_\" + Q ,\n",
    "                                # id = \"qfg_test\",\n",
    "                                mdl_type = pars[\"mdl_type\"],\n",
    "                                scaling= 1E15,\n",
    "                                splitting_algorithm=\"kennard_stone\"\n",
    "                                )\n",
    "    \n",
    "    res[Q] = { \"test\" : test, \"model\" : best_model, \"mae_test\" : mae_test_real, \"mse_test\" : mse_test_real, \"r2_test\": r2_test_real }\n"
   ]
  },
  {
   "cell_type": "code",
   "execution_count": null,
   "metadata": {},
   "outputs": [],
   "source": [
    "print(_id_q)\n"
   ]
  }
 ],
 "metadata": {
  "kernelspec": {
   "display_name": "tf",
   "language": "python",
   "name": "python3"
  },
  "language_info": {
   "codemirror_mode": {
    "name": "ipython",
    "version": 3
   },
   "file_extension": ".py",
   "mimetype": "text/x-python",
   "name": "python",
   "nbconvert_exporter": "python",
   "pygments_lexer": "ipython3",
   "version": "3.9.17"
  },
  "orig_nbformat": 4
 },
 "nbformat": 4,
 "nbformat_minor": 2
}
